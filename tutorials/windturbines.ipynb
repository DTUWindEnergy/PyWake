{
    "cells": [
        {
            "cell_type": "markdown",
            "metadata": {},
            "source": [
                "## Wind Turbines"
            ]
        },
        {
            "cell_type": "markdown",
            "metadata": {},
            "source": [
                "The `WindTurbine` base class is used to model of the available wind turbine types.\n",
                "\n",
                "Wind turbines are modelled by:\n",
                "\n",
                "- Name\n",
                "- Hub height\n",
                "- Rotor diameter\n",
                "- Power curve\n",
                "- Ct curve"
            ]
        },
        {
            "cell_type": "markdown",
            "metadata": {},
            "source": [
                "**Setup**"
            ]
        },
        {
            "cell_type": "code",
            "execution_count": 1,
            "metadata": {},
            "outputs": [],
            "source": [
                "import numpy as np\n",
                "%matplotlib inline\n",
                "import matplotlib.pyplot as plt"
            ]
        },
        {
            "cell_type": "code",
            "execution_count": 2,
            "metadata": {},
            "outputs": [],
            "source": [
                "%%capture\n",
                "# clone and install if PyWake if needed\n",
                "try:\n",
                "    import py_wake\n",
                "except ModuleNotFoundError:\n",
                "    !git clone https://gitlab.windenergy.dtu.dk/TOPFARM/PyWake.git\n",
                "    %cd PyWake\n",
                "    !pip install -e ."
            ]
        },
        {
            "cell_type": "markdown",
            "metadata": {},
            "source": [
                "PyWake contains a few predefined turbines, e.g. the V80 from Hornsrev1"
            ]
        },
        {
            "cell_type": "markdown",
            "metadata": {},
            "source": [
                "# V80 example turbine"
            ]
        },
        {
            "cell_type": "markdown",
            "metadata": {},
            "source": [
                "PyWake contains a few predefined turbines, e.g. the V80 from Hornsrev1"
            ]
        },
        {
            "cell_type": "code",
            "execution_count": 2,
            "metadata": {},
            "outputs": [
                {
                    "name": "stdout",
                    "output_type": "stream",
                    "text": [
                        "Diameter 80\n",
                        "Hub height 70\n"
                    ]
                }
            ],
            "source": [
                "from py_wake.examples.data.hornsrev1 import V80\n",
                "\n",
                "wt = V80()\n",
                "print('Diameter', wt.diameter())\n",
                "print('Hub height', wt.hub_height())"
            ]
        },
        {
            "cell_type": "code",
            "execution_count": 3,
            "metadata": {},
            "outputs": [
                {
                    "data": {
                        "text/plain": [
                            "[<matplotlib.lines.Line2D at 0x139351770f0>]"
                        ]
                    },
                    "execution_count": 3,
                    "metadata": {},
                    "output_type": "execute_result"
                },
                {
                    "data": {
                        "image/png": "[encoded data removed]",
                        "text/plain": [
                            "<Figure size 432x288 with 1 Axes>"
                        ]
                    },
                    "metadata": {
                        "needs_background": "light"
                    },
                    "output_type": "display_data"
                }
            ],
            "source": [
                "ws = np.arange(3,25)\n",
                "plt.xlabel('Wind speed [m/s]')\n",
                "plt.ylabel('Power [kW]')\n",
                "plt.plot(ws, wt.power(ws),'.-')"
            ]
        },
        {
            "cell_type": "code",
            "execution_count": 4,
            "metadata": {},
            "outputs": [
                {
                    "data": {
                        "text/plain": [
                            "[<matplotlib.lines.Line2D at 0x13934e28c18>]"
                        ]
                    },
                    "execution_count": 4,
                    "metadata": {},
                    "output_type": "execute_result"
                },
                {
                    "data": {
                        "image/png": "[encoded data removed]",
                        "text/plain": [
                            "<Figure size 432x288 with 1 Axes>"
                        ]
                    },
                    "metadata": {
                        "needs_background": "light"
                    },
                    "output_type": "display_data"
                }
            ],
            "source": [
                "plt.xlabel('Wind speed [m/s]')\n",
                "plt.ylabel('Ct [-]')\n",
                "plt.plot(ws, wt.ct(ws))"
            ]
        },
        {
            "cell_type": "markdown",
            "metadata": {},
            "source": [
                "The V80 object is a [`OneTypeWindTurbines`](../docs/build/html/_src_docs/wind_turbines/OneTypeOnlyWindTurbines.html) object which is a subclass of the [`WindTurbines`](../docs/build/html/_src_docs/wind_turbines/WindTurbines.html) class."
            ]
        },
        {
            "cell_type": "code",
            "execution_count": null,
            "metadata": {},
            "outputs": [],
            "source": []
        },
        {
            "cell_type": "code",
            "execution_count": null,
            "metadata": {},
            "outputs": [],
            "source": [
                "ws = np.arange(3,25)\n",
                "plt.xlabel('Wind speed [m/s]')\n",
                "plt.ylabel('Power [kW]')\n",
                "plt.plot(ws, wt.power(ws),'.-')"
            ]
        },
        {
            "cell_type": "code",
            "execution_count": null,
            "metadata": {},
            "outputs": [],
            "source": [
                "plt.xlabel('Wind speed [m/s]')\n",
                "plt.ylabel('Ct [-]')\n",
                "plt.plot(ws, wt.ct(ws))"
            ]
        },
        {
            "cell_type": "markdown",
            "metadata": {},
            "source": [
                "The V80 object only contains one wind turbine type.\n",
                "\n",
                "Let us define a new [`WindTurbines`](../docs/build/html/_src_docs/WindTurbines.html#py_wake.wind_turbines.WindTurbines) object with two turbines; MyWT1 and MyWT2\n",
                "\n"
            ]
        },
        {
            "cell_type": "code",
            "execution_count": null,
            "metadata": {},
            "outputs": [],
            "source": [
                "from py_wake.wind_turbines import WindTurbines\n",
                "def ct(ws):\n",
                "    # CT curve for both types\n",
                "    u = [0, 3, 4, 12, 25]\n",
                "    ct = [1/9, 1/9, 8/9, 8/9,1/9]\n",
                "    return np.interp(ws, u, ct)\n",
                "\n",
                "def MyWT1_Power(ws):\n",
                "    # Power curve for MyWT1\n",
                "    u = [3, 4, 5, 6, 7, 8, 9, 10, 11, 12, 13, 14, 15, 16, 17, 25]\n",
                "    p = [0, 66, 154, 282, 460, 696, 996, 1341, 1661, 1866, 1958, 1988, 1997, 1999, 2000, 2000]\n",
                "    return np.interp(ws, u, p)\n",
                "\n",
                "def MyWT2_Power(ws):\n",
                "    # Power curve (function) for MyWT2\n",
                "    return np.minimum(2000, np.maximum(0, ws**3))\n",
                "\n",
                "wts = WindTurbines(names=['MyWT1','MyWT2'],\n",
                "                   diameters=[80,100],\n",
                "                   hub_heights=[70,80],\n",
                "                   ct_funcs=[ct, # MyWT1\n",
                "                             ct], # MyWT2\n",
                "                   power_funcs=[MyWT1_Power, MyWT2_Power],\n",
                "                   power_unit='kW'\n",
                "                  )"
            ]
        },
        {
            "cell_type": "code",
            "execution_count": null,
            "metadata": {},
            "outputs": [],
            "source": [
                "print('Diameter', wts.diameter([0,1]))\n",
                "print('Hub height', wts.hub_height([0,1]))"
            ]
        },
        {
            "cell_type": "code",
            "execution_count": null,
            "metadata": {},
            "outputs": [],
            "source": [
                "ws = np.arange(3,25)\n",
                "plt.xlabel('Wind speed [m/s]')\n",
                "plt.ylabel('Power [kW]')\n",
                "for t in [0,1]:\n",
                "    plt.plot(ws, wts.power(ws,t),'.-', label=wts.name(t))\n",
                "plt.legend()"
            ]
        },
        {
            "cell_type": "markdown",
            "metadata": {},
            "source": [
                "Finally, the `WindTurbines` class has a method to plot wind turbines in a wind farm given the positions\n"
            ]
        },
        {
            "cell_type": "code",
            "execution_count": null,
            "metadata": {},
            "outputs": [],
            "source": [
                "wt_x = [0,200,0,200]\n",
                "wt_y = [0,0,200,200]\n",
                "wt_types = [0,1,0,1] \n",
                "wts.plot(wt_x, wt_y, wt_types)\n",
                "plt.ylim([-100,300])\n"
            ]
        },
        {
            "cell_type": "markdown",
            "metadata": {},
            "source": [
                "Where the gray circles reflect the rotor size"
            ]
        },
        {
            "cell_type": "code",
            "execution_count": null,
            "metadata": {},
            "outputs": [],
            "source": []
        }
    ],
    "metadata": {
        "kernelspec": {
            "display_name": "Python 3",
            "language": "python",
            "name": "python3"
        },
        "language_info": {
            "codemirror_mode": {
                "name": "ipython",
                "version": 3
            },
            "file_extension": ".py",
            "mimetype": "text/x-python",
            "name": "python",
            "nbconvert_exporter": "python",
            "pygments_lexer": "ipython3",
            "version": "3.6.7"
        }
    },
    "nbformat": 4,
    "nbformat_minor": 2
}