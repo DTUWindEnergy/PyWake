{
 "cells": [
  {
   "cell_type": "code",
   "execution_count": null,
   "id": "b990a98d",
   "metadata": {
    "tags": []
   },
   "outputs": [],
   "source": [
    "# Load libraries\n",
    "import ruamel.yaml as ry\n",
    "import matplotlib.pyplot as plt\n",
    "import numpy as np\n",
    "import os\n",
    "\n",
    "def load_yaml(fname_input):\n",
    "    reader = ry.YAML(typ=\"safe\", pure=True)\n",
    "    with open(fname_input, \"r\", encoding=\"utf-8\") as f:\n",
    "        input_yaml = reader.load(f)\n",
    "    return input_yaml"
   ]
  },
  {
   "cell_type": "code",
   "execution_count": null,
   "id": "ceb74b3c",
   "metadata": {
    "tags": []
   },
   "outputs": [],
   "source": [
    "# Load windIO output yaml files \n",
    "paths = {\"HAWC2\":   {\"path\": \"./iea-22-280-rwt-steady-states-hawc2.yaml\"}\n",
    "        #  \"OpenFAST\": {\"path\": \"OpenFAST/iea-22-280-rwt-steady-states-of.yaml\"}\n",
    "        }\n",
    "data = {}\n",
    "\n",
    "\n",
    "for name, config in paths.items():\n",
    "    data[name] = load_yaml(config[\"path\"])"
   ]
  },
  {
   "cell_type": "code",
   "execution_count": null,
   "id": "b1c04636-a414-4529-82d5-88daa592e279",
   "metadata": {
    "tags": []
   },
   "outputs": [],
   "source": [
    "def get_floats_from_dict(cases, subdict, name):\n",
    "    return [case[subdict][name] for case in cases]"
   ]
  },
  {
   "cell_type": "code",
   "execution_count": null,
   "id": "9362f12e",
   "metadata": {
    "tags": []
   },
   "outputs": [],
   "source": [
    "# Create dictionaries of numpy arrays for easy plots\n",
    "wind_speed = {}\n",
    "rotor_speed = {}\n",
    "pitch = {}\n",
    "\n",
    "for i, (name, dataset) in enumerate(data.items()):\n",
    "    cases = dataset['cases']\n",
    "    n_ws = len(cases)\n",
    "    wind_speed[name] = [case[\"configuration\"][\"wind_speed\"] for case in cases]\n",
    "    pitch[name] = [case[\"configuration\"][\"pitch\"] for case in cases]\n",
    "    rotor_speed[name] = [case[\"configuration\"][\"rotor_speed\"] for case in cases]\n"
   ]
  },
  {
   "cell_type": "code",
   "execution_count": null,
   "id": "cd74a388",
   "metadata": {
    "tags": []
   },
   "outputs": [],
   "source": [
    "font_size = 10\n",
    "f, ax = plt.subplots(1, 1, figsize=(5.3, 4))\n",
    "for i, (name, dataset) in enumerate(data.items()):\n",
    "    ax.plot(wind_speed[name], rotor_speed[name], label=name)\n",
    "ax.set_xlabel(\"Wind Speed (m/s)\", fontsize=font_size + 2, fontweight=\"bold\")\n",
    "ax.set_ylabel(\"Rotor Speed (rpm)\", fontsize=font_size + 2, fontweight=\"bold\")\n",
    "ax.grid(color=[0.8, 0.8, 0.8], linestyle=\"--\")\n",
    "ax.legend()\n",
    "plt.subplots_adjust(bottom=0.15, left=0.15)"
   ]
  },
  {
   "cell_type": "code",
   "execution_count": null,
   "id": "c836ca05",
   "metadata": {
    "tags": []
   },
   "outputs": [],
   "source": [
    "f, ax = plt.subplots(1, 1, figsize=(5.3, 4))\n",
    "for i, (name, dataset) in enumerate(data.items()):\n",
    "    ax.plot(wind_speed[name], pitch[name], label=name)\n",
    "ax.set_xlabel(\"Wind Speed (m/s)\", fontsize=font_size + 2, fontweight=\"bold\")\n",
    "ax.set_ylabel(\"Pitch (deg)\", fontsize=font_size + 2, fontweight=\"bold\")\n",
    "ax.grid(color=[0.8, 0.8, 0.8], linestyle=\"--\")\n",
    "ax.legend()\n",
    "plt.subplots_adjust(bottom=0.15, left=0.15)"
   ]
  },
  {
   "cell_type": "code",
   "execution_count": null,
   "id": "99bf8627",
   "metadata": {
    "tags": []
   },
   "outputs": [],
   "source": [
    "integrated_keys = list(data[\"HAWC2\"][\"cases\"][0][\"outputs\"][\"integrated\"].keys())\n",
    "distributed_keys = list(data[\"HAWC2\"][\"cases\"][0][\"outputs\"][\"distributed\"].keys())\n",
    "\n",
    "for key in integrated_keys:\n",
    "    f, ax = plt.subplots(1, 1, figsize=(5.3, 4))\n",
    "    for i, (name, dataset) in enumerate(data.items()):\n",
    "        values = [case[\"outputs\"][\"integrated\"][key] for case in dataset[\"cases\"]]\n",
    "        ax.plot(wind_speed[name], values, label=name)\n",
    "    ax.set_xlabel(\"Wind Speed (m/s)\", fontsize=font_size + 2, fontweight=\"bold\")\n",
    "    ax.set_ylabel(\"%s\" % key, fontsize=font_size + 2, fontweight=\"bold\")\n",
    "    ax.grid(color=[0.8, 0.8, 0.8], linestyle=\"--\")\n",
    "    ax.legend()\n",
    "    plt.subplots_adjust(bottom=0.15, left=0.15)"
   ]
  },
  {
   "cell_type": "code",
   "execution_count": null,
   "id": "459774e1-322a-4ebc-ba61-d18d59639d0a",
   "metadata": {
    "tags": []
   },
   "outputs": [],
   "source": [
    "len(data['HAWC2']['cases'][7][\"outputs\"][\"distributed\"][\"blade_Fz_pitching\"][\"values\"])"
   ]
  },
  {
   "cell_type": "code",
   "execution_count": null,
   "id": "209e5e74-c9a6-49dc-bd00-2a827e80f1dc",
   "metadata": {
    "tags": []
   },
   "outputs": [],
   "source": [
    "distributed_keys = list(data[\"HAWC2\"][\"cases\"][0][\"outputs\"][\"distributed\"].keys())\n",
    "ws = 10.0\n",
    "for key in distributed_keys:\n",
    "    f, ax = plt.subplots(1, 1, figsize=(5.3, 4))\n",
    "    ax.set_title(\"Wind speed = %2.2f\" % ws)\n",
    "    for i, (name, dataset) in enumerate(data.items()):\n",
    "        try:\n",
    "            case_ix = wind_speed[name].index(ws)\n",
    "            case = dataset[\"cases\"][case_ix]\n",
    "            grid = case[\"outputs\"][\"distributed\"][key][\"grid\"]\n",
    "            values = case[\"outputs\"][\"distributed\"][key][\"values\"]\n",
    "            ax.plot(grid, values, label=name)\n",
    "        except:\n",
    "            print(\"Wind speed %2.2f not in dataset: %s for %s\" % (ws, name, key)) \n",
    "    ax.set_xlabel(\"Spanwise grid (-)\", fontsize=font_size + 2, fontweight=\"bold\")\n",
    "    ax.set_ylabel(\"%s\" % key, fontsize=font_size + 2, fontweight=\"bold\")\n",
    "    ax.grid(color=[0.8, 0.8, 0.8], linestyle=\"--\")\n",
    "    ax.legend()\n",
    "    plt.subplots_adjust(bottom=0.15, left=0.15)\n",
    "    plt.savefig('%s.png' % key)"
   ]
  },
  {
   "cell_type": "code",
   "execution_count": null,
   "id": "57dbed1f-e0b3-4a45-b620-8ea729c33ead",
   "metadata": {},
   "outputs": [],
   "source": [
    "# Cp/Ct-Curve output for PyWake\n",
    "integrated_keys = list(data[\"HAWC2\"][\"cases\"][0][\"outputs\"][\"integrated\"].keys())\n",
    "keyCT = 'rotor_thrust'\n",
    "keyCP = 'rotor_torque'\n",
    "keyP = 'electrical_power'\n",
    "\n",
    "for i, (name, dataset) in enumerate(data.items()):\n",
    "    thrust = [case[\"outputs\"][\"integrated\"][keyCT] for case in dataset[\"cases\"]]\n",
    "    torque = [case[\"outputs\"][\"integrated\"][keyCP] for case in dataset[\"cases\"]]\n",
    "    power = np.array([case[\"outputs\"][\"integrated\"][keyP] for case in dataset[\"cases\"]])\n",
    "    windspeed = np.array(wind_speed[name])\n",
    "    rotorspeed = np.array(rotor_speed[name])\n",
    "rho = 1.225; D=284\n",
    "A = np.pi/4.*D**2\n",
    "CT = thrust/(0.5*rho*A*windspeed**2.0)\n",
    "CP = torque*rotorspeed*(2*np.pi)/(60*0.5*rho*A*windspeed**3.0)\n",
    "CP2 = power/(0.5*rho*A*windspeed**3.0)\n",
    "plt.figure(1)\n",
    "plt.plot(windspeed,CP,label='torque')\n",
    "plt.plot(windspeed,CP2,label='power')\n",
    "plt.legend()\n",
    "plt.figure(2)\n",
    "plt.plot(windspeed,CT,label='thrust')\n",
    "plt.legend()\n",
    "\n",
    "out = np.zeros((windspeed.size,5))\n",
    "out[:,0] = windspeed\n",
    "out[:,1] = power/10e5\n",
    "out[:,2] = CT\n",
    "out[:,3] = CP2\n",
    "out[:,4] = CP\n",
    "\n",
    "\n",
    "import pandas as pd\n",
    "df = pd.DataFrame(np.round(out,decimals=6), columns=['Wind [m/s]', 'Power [MW]', 'Thrust Coefficient [-]','Power coefficient from electrical output [-]','Power coefficient from torque [-]'])\n",
    "df.to_csv('output.csv', index=False,sep=';')\n",
    "\n",
    "\n"
   ]
  }
 ],
 "metadata": {
  "kernelspec": {
   "display_name": "Python 3 (ipykernel)",
   "language": "python",
   "name": "python3"
  },
  "language_info": {
   "codemirror_mode": {
    "name": "ipython",
    "version": 3
   },
   "file_extension": ".py",
   "mimetype": "text/x-python",
   "name": "python",
   "nbconvert_exporter": "python",
   "pygments_lexer": "ipython3",
   "version": "3.9.11"
  },
  "vscode": {
   "interpreter": {
    "hash": "eda8c6ecf7de9e500a7865cf4fcbcaa33552a4d99b33fd40fea80c4dcd661a6d"
   }
  }
 },
 "nbformat": 4,
 "nbformat_minor": 5
}
