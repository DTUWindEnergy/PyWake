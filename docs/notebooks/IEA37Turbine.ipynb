{
    "cells": [
        {
            "cell_type": "markdown",
            "metadata": {},
            "source": [
                "# IEA37 3.35MW example turbine"
            ]
        },
        {
            "cell_type": "markdown",
            "metadata": {},
            "source": [
                "[Try this yourself](https://colab.research.google.com/github/DTUWindEnergy/PyWake/blob/master/docs/notebooks/IEA37Turbine.ipynb) (requires google account)\n"
            ]
        },
        {
            "cell_type": "code",
            "execution_count": 0,
            "metadata": {},
            "outputs": [],
            "source": [
                "# Install PyWake if needed\n",
                "try:\n",
                "    import py_wake\n",
                "except ModuleNotFoundError:\n",
                "    !pip install py_wake\n"
            ]
        },
        {
            "cell_type": "markdown",
            "metadata": {},
            "source": [
                "PyWake contains a few predefined turbines, e.g. the IEA task 37, 3.35MW turbine"
            ]
        },
        {
            "cell_type": "code",
            "execution_count": 5,
            "metadata": {},
            "outputs": [
                {
                    "name": "stdout",
                    "output_type": "stream",
                    "text": [
                        "Diameter 130.0\n",
                        "Hub height 110.0\n"
                    ]
                }
            ],
            "source": [
                "import numpy as np\n",
                "import matplotlib.pyplot as plt\n",
                "from py_wake.examples.data.iea37 import IEA37_WindTurbines\n",
                "\n",
                "wt = IEA37_WindTurbines()\n",
                "print('Diameter', wt.diameter())\n",
                "print('Hub height', wt.hub_height())"
            ]
        },
        {
            "cell_type": "code",
            "execution_count": 8,
            "metadata": {},
            "outputs": [
                {
                    "data": {
                        "text/plain": [
                            "[<matplotlib.lines.Line2D at 0x1f5a57b9160>]"
                        ]
                    },
                    "execution_count": 8,
                    "metadata": {},
                    "output_type": "execute_result"
                },
                {
                    "data": {
                        "image/png": "[encoded data removed]",
                        "text/plain": [
                            "<Figure size 432x288 with 1 Axes>"
                        ]
                    },
                    "metadata": {
                        "needs_background": "light"
                    },
                    "output_type": "display_data"
                }
            ],
            "source": [
                "ws = np.arange(3,25)\n",
                "plt.xlabel('Wind speed [m/s]')\n",
                "plt.ylabel('Power [kW]')\n",
                "plt.plot(ws, wt.power(ws),'.-')"
            ]
        },
        {
            "cell_type": "code",
            "execution_count": 9,
            "metadata": {},
            "outputs": [
                {
                    "data": {
                        "text/plain": [
                            "[<matplotlib.lines.Line2D at 0x1f5a5817208>]"
                        ]
                    },
                    "execution_count": 9,
                    "metadata": {},
                    "output_type": "execute_result"
                },
                {
                    "data": {
                        "image/png": "[encoded data removed]",
                        "text/plain": [
                            "<Figure size 432x288 with 1 Axes>"
                        ]
                    },
                    "metadata": {
                        "needs_background": "light"
                    },
                    "output_type": "display_data"
                }
            ],
            "source": [
                "plt.xlabel('Wind speed [m/s]')\n",
                "plt.ylabel('Ct [-]')\n",
                "plt.plot(ws, wt.ct(ws))"
            ]
        },
        {
            "cell_type": "markdown",
            "metadata": {},
            "source": [
                "The wt object is a [`OneTypeWindTurbines`](https://topfarm.pages.windenergy.dtu.dk/PyWake/wind_turbines/OneTypeWindTurbines.html) object which is a subclass of the [`WindTurbines`](https://topfarm.pages.windenergy.dtu.dk/PyWake/wind_turbines/WindTurbines.html) class."
            ]
        }
    ],
    "metadata": {
        "kernelspec": {
            "display_name": "Python 3",
            "language": "python",
            "name": "python3"
        },
        "language_info": {
            "codemirror_mode": {
                "name": "ipython",
                "version": 3
            },
            "file_extension": ".py",
            "mimetype": "text/x-python",
            "name": "python",
            "nbconvert_exporter": "python",
            "pygments_lexer": "ipython3",
            "version": "3.6.7"
        }
    },
    "nbformat": 4,
    "nbformat_minor": 2
}