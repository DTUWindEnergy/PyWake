{
    "cells": [
        {
            "cell_type": "markdown",
            "metadata": {},
            "source": [
                "# Exercise: Validate NOJ"
            ]
        },
        {
            "cell_type": "markdown",
            "metadata": {},
            "source": [
                "[Try this yourself](https://colab.research.google.com/github/DTUWindEnergy/PyWake/blob/master/docs/notebooks/noj_validation_exercise.ipynb) (requires google account)\n"
            ]
        },
        {
            "cell_type": "code",
            "execution_count": 0,
            "metadata": {},
            "outputs": [],
            "source": [
                "%%capture\n",
                "# Install PyWake if needed\n",
                "try:\n",
                "    import py_wake\n",
                "except ModuleNotFoundError:\n",
                "    !pip install py_wake\n"
            ]
        },
        {
            "cell_type": "markdown",
            "metadata": {},
            "source": [
                "Validate the down stream wind speed result presented in table 1 in Jensen, Niels Otto. \"A note on wind generator interaction.\" (1983)"
            ]
        },
        {
            "cell_type": "markdown",
            "metadata": {},
            "source": [
                "Input\n",
                "- Nibe turbine:\n",
                "    - radius: 20m\n",
                "    - Wind speed behind the turbine: 1/3U (corresponding to ct=8/9)\n",
                "- Wake expansion factor, k: 0.1\n",
                "- wind speed:\n",
                "    - 100m upstream: 8.1 m/s\n",
                "\n",
                "Results\n",
                "- 40m down stream: 4.35 m/s\n",
                "- 100m down stream: 5.7 m/s\n",
                "\n",
                "Hint: \n",
                "- Copy the template below into a code cell\n",
                "- Replace all occurences of \"...\" with proper values/code\n",
                "- Take a look at the [refernce guide](https://topfarm.pages.windenergy.dtu.dk/PyWake/reference_guide.html)"
            ]
        },
        {
            "cell_type": "markdown",
            "metadata": {},
            "source": [
                "**Template**\n",
                "\n",
                "```python \n",
                "import numpy as np\n",
                "import matplotlib.pyplot as plt\n",
                "from py_wake.aep_calculator import AEPCalculator\n",
                "from py_wake.wind_turbines import OneTypeWindTurbines\n",
                "from py_wake.wake_models import NOJ\n",
                "from py_wake.site import UniformSite\n",
                "\n",
                "def p(ws):\n",
                "    # power function for wind turbine\n",
                "    return ...\n",
                "\n",
                "def ct(ws):\n",
                "    # ct function for wind turbine\n",
                "    return ...\n",
                "\n",
                "\n",
                "wt = OneTypeWindTurbines(name=..., \n",
                "                         diameter=..., \n",
                "                         hub_height=..., \n",
                "                         ct_func=ct, \n",
                "                         power_func=p, \n",
                "                         power_unit=...)\n",
                "\n",
                "wake_model = NOJ(...)\n",
                "\n",
                "site = UniformSite(p_wd=[1], ti=.1) # Dummy site (flat and uniform)\n",
                "\n",
                "aep_calc = AEPCalculator(site, wt, wake_model)\n",
                "X,Y,WS_eff = aep_calc.wake_map(x_j = [...], \n",
                "                               y_j=[...],\n",
                "                               wt_x=[...], \n",
                "                               wt_y=[...],\n",
                "                               wd=[...], \n",
                "                               ws=[...])\n",
                "print ( WS_eff)\n",
                "```"
            ]
        },
        {
            "cell_type": "code",
            "execution_count": null,
            "metadata": {},
            "outputs": [],
            "source": []
        }
    ],
    "metadata": {
        "kernelspec": {
            "display_name": "Python 3",
            "language": "python",
            "name": "python3"
        },
        "language_info": {
            "codemirror_mode": {
                "name": "ipython",
                "version": 3
            },
            "file_extension": ".py",
            "mimetype": "text/x-python",
            "name": "python",
            "nbconvert_exporter": "python",
            "pygments_lexer": "ipython3",
            "version": "3.6.7"
        }
    },
    "nbformat": 4,
    "nbformat_minor": 2
}