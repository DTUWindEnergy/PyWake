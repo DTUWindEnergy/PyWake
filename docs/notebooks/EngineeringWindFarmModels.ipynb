{
 "cells": [
  {
   "cell_type": "markdown",
   "id": "63627cb8",
   "metadata": {},
   "source": [
    "# Engineering Wind Farm Models Object"
   ]
  },
  {
   "cell_type": "markdown",
   "id": "ae118221",
   "metadata": {},
   "source": [
    "In PyWake, the pre defined wind farm models encompass all engineering models available that have been implemented from literature and adapdated to work with PyWake's capabilities. Each of the model comes with default settings in terms of wake deficit models, superposition models, turbulence models, etc. However, these are easily customizable to study the impact of different models on the results.\n",
    "\n",
    "**The wind farm models are inherited from two base classes:** `PropagateDownwind` **and** `All2AllIterative`."
   ]
  },
  {
   "cell_type": "markdown",
   "id": "aeefd655",
   "metadata": {},
   "source": [
    "### PropagateDownwind\n",
    "\n",
    "The `PropagateDownwind` wind farm model is very fast as it only performs a minimum of deficit calculations. It iterates over all turbines in downstream order. In each iteration it calculates the effective wind speed at the current wind turbine as the free stream wind speed minus the sum of the deficit from upstream sources. Based on this effective wind speed, it calculates the deficit caused by the current turbine on all downstream destinations. Note, that this procedure neglects upstream blockage effects.\n",
    "\n",
    "```python\n",
    "for wt in wind turbines in downstream order:\n",
    "    ws_eff[wt] = ws[wt] - superposition(deficit[from_upstream_src,to_wt])\n",
    "    ct = windTurbines.ct(ws_eff[wt])\n",
    "    deficit[from_wt,to_downstream_dst] = wakeDeficitModel(ct, distances[from_wt,to_downstream_dst], ...)\n",
    "```\n",
    "\n",
    "The proceedure is illustrated in the animation below:\n",
    "\n",
    "- **Iteration 1:** WT0 sees the free wind (10m/s). Its deficit on WT1 and WT2 is calculated.\n",
    "- **Iteration 2:** WT1 sees the free wind minus the deficit from WT0. Its deficit on WT2 is calculated and the effective wind speed at WT2 is updated."
   ]
  },
  {
   "cell_type": "markdown",
   "id": "7a3718b4",
   "metadata": {},
   "source": [
    "![PropagateDownwind](../_static/PropagateDownwind.gif)"
   ]
  },
  {
   "cell_type": "markdown",
   "id": "c40d685f",
   "metadata": {},
   "source": [
    "In PyWake, the class is represented as follows:\n",
    "\n",
    "```python\n",
    " def __init__(self, site, windTurbines, wake_deficitModel,\n",
    "                 superpositionModel=LinearSum(),\n",
    "                 deflectionModel=None, turbulenceModel=None, rotorAvgModel=None,\n",
    "                 inputModifierModels=[]):\n",
    "```\n",
    "\n",
    "where a Site and Wind Turbine objects are necessary for the calculation. In addition, a wake deficit model must be provided. By default, the class uses the Linear Sum technique to add the wakes from downstream turbines. In the general class, the deflection, turbulence and rotor average model are set to `None`, which can be overwritten for each pre-defined engineering wind farm model."
   ]
  },
  {
   "cell_type": "markdown",
   "id": "5591a990",
   "metadata": {},
   "source": [
    "### All2AllIterative\n",
    "\n",
    "The `All2AllIterative` wind farm model is slower but is capable of handling blockage effects. It iterates until the effective wind speed converges (i.e. less than or equal to the maximum number of turbines that affect each other in the wind farm. The converge tolerance is an input parameter. In each iteration it sums up the deficit from all wind turbine sources and calculates the deficit caused by the all wind turbines turbine on all wind turbines.\n",
    "\n",
    "```python\n",
    "while ws_eff not converged:\n",
    "    ws_eff[all] = ws[all] - superposition(deficit[from_all,to_all])\n",
    "    ct[all] = windTurbines.ct(ws_eff[all])\n",
    "    deficit[from_all,to_all] = wakeDeficitModel(ct[all], distances[from_all,to_all], ...)\n",
    "```\n",
    "\n",
    "The proceedure is illustrated in the animation below:\n",
    "\n",
    "- **Iteration 1:** All three WT see the free wind (10m/s) and their CT values and resulting deficits are therefore equal.\n",
    "- **Iteration 2:** The local effective wind speeds are updated taking into account the wake and blockage effects of the other WT. Based on these wind speeds the CT and deficits are recalculated.\n",
    "- **Iteration 3:** Repeat after which the flow field has converged."
   ]
  },
  {
   "cell_type": "markdown",
   "id": "807ff4ee",
   "metadata": {},
   "source": [
    "![All2AllIterative](../_static/All2AllIterative.gif)"
   ]
  },
  {
   "cell_type": "markdown",
   "id": "ef902e01",
   "metadata": {},
   "source": [
    "Similarly, the `All2AllIterative` class is defined in PyWake as:\n",
    "\n",
    "```python\n",
    "def __init__(self, site, windTurbines, wake_deficitModel,\n",
    "                 superpositionModel=LinearSum(),\n",
    "                 blockage_deficitModel=None, deflectionModel=None, turbulenceModel=None,\n",
    "                 convergence_tolerance=1e-6, rotorAvgModel=None, inputModifierModels=[]):\n",
    "````\n",
    "\n",
    "In addition to the parameters specified in the `PropagateDownwind` class, here we determine a convergence tolerance in terms of the maximum accepted change in `WS_eff_ilk` in m/s. In this case, the blockage deficit model is set to `None` as default, but this should be changed depending on the engineering wind farm model used."
   ]
  },
  {
   "cell_type": "markdown",
   "id": "8da3fe7f",
   "metadata": {},
   "source": [
    "An example of how some wind farm models are defined in PyWake are shown below."
   ]
  },
  {
   "cell_type": "markdown",
   "id": "2ba10ef5",
   "metadata": {},
   "source": [
    "### Predefined Wind Farm Models\n",
    "\n",
    "The pre-defines wind farm models are adapted from the literature, where their corresponding default superposition model, turbulence model and calibration parameters are taken from the paper describing each model.\n",
    "\n",
    "**The engineering wind farm models comprise:**\n",
    "\n",
    "| Reference | Name | WindFarm Model | Wake Deficit Model | Blockage Deficit Model | Superposition Model | Turbulence Model |\n",
    "| :--- | :--- | :--- | :--- | :--- | :--- | :--- |\n",
    "| [1](https://gitlab.windenergy.dtu.dk/TOPFARM/PyWake/-/blob/master/py_wake/literature/noj.py) | Jensen_1983 | [PropagateDownwind](#PropagateDownwind) | [NOJDeficit](WakeDeficitModels.ipynb#NOJDeficit) | - | [SquaredSum](SuperpositionModels.ipynb#SquaredSum) | - |\n",
    "| [2](https://gitlab.windenergy.dtu.dk/TOPFARM/PyWake/-/blob/master/py_wake/literature/fuga.py) | Ott_Nielsen_2014 | [PropagateDownwind](#PropagateDownwind) | [FugaDeficit](WakeDeficitModels.ipynb#FugaDeficit) | - | [LinearSum](SuperpositionModels.ipynb#LinearSum) | - |\n",
    "| [3](https://gitlab.windenergy.dtu.dk/TOPFARM/PyWake/-/blob/master/py_wake/literature/fuga.py) | Ott_Nielsen_2014_Blockage | [All2AllIterative](#All2AllIterative) | [FugaDeficit](WakeDeficitModels.ipynb#FugaDeficit) | [FugaDeficit](WakeDeficitModels.ipynb#FugaDeficit) | [LinearSum](SuperpositionModels.ipynb#LinearSum) | - |\n",
    "| [4](https://gitlab.windenergy.dtu.dk/TOPFARM/PyWake/-/blob/master/py_wake/literature/gaussian_models.py) | Bastankhah_PorteAgel_2014 | [PropagateDownwind](#PropagateDownwind) | [BastankhahGaussianDeficit](WakeDeficitModels.ipynb#BastankhahGaussianDeficit) | - | [SquaredSum](SuperpositionModels.ipynb#SquaredSum) | - |\n",
    "| [5](https://gitlab.windenergy.dtu.dk/TOPFARM/PyWake/-/blob/master/py_wake/literature/iea37_case_study1.py) | IEA37CaseStudy1 | [PropagateDownwind](#PropagateDownwind) | [IEA37SimpleBastankhahGaussianDeficit](WakeDeficitModels.ipynb#IEA37SimpleBastankhahGaussianDeficit) | - | [SquaredSum](SuperpositionModels.ipynb#SquaredSum) | - |\n",
    "| [6](https://gitlab.windenergy.dtu.dk/TOPFARM/PyWake/-/blob/master/py_wake/literature/gaussian_models.py) | Niayifar_PorteAgel_2016 | [PropagateDownwind](#PropagateDownwind) | [NiayifarGaussianDeficit](WakeDeficitModels.ipynb#NiayifarGaussianDeficit) | - | [LinearSum](SuperpositionModels.ipynb#LinearSum) | [CrespoHernandez](TurbulenceModels.ipynb#CrespoHernandez) |\n",
    "| [7](https://gitlab.windenergy.dtu.dk/TOPFARM/PyWake/-/blob/master/py_wake/literature/gaussian_models.py) | Zong_PorteAgel_2020 | [PropagateDownwind](#PropagateDownwind) | [ZongGaussianDeficit](WakeDeficitModels.ipynb#ZongGaussianDeficit) | - | [WeightedSum](SuperpositionModels.ipynb#WeightedSum) | [CrespoHernandez](TurbulenceModels.ipynb#CrespoHernandez) |\n",
    "| [8](https://gitlab.windenergy.dtu.dk/TOPFARM/PyWake/-/blob/master/py_wake/literature/turbopark.py) | Nygaard_2022 | [PropagateDownwind](#PropagateDownwind) | [TurboGaussianDeficit](WakeDeficitModels.ipynb#TurboGaussianDeficit) | - | [SquaredSum](SuperpositionModels.ipynb#SquaredSum) | - |\n",
    "| [9](https://gitlab.windenergy.dtu.dk/TOPFARM/PyWake/-/blob/master/py_wake/literature/gaussian_models.py) | Blondel_Cathelain_2020 | [PropagateDownwind](#PropagateDownwind) | [BlondelSuperGaussianDeficit2020](WakeDeficitModels.ipynb#SuperGaussianDeficit) | - | [LinearSum](SuperpositionModels.ipynb#LinearSum) | - |\n",
    "\n",
    "- Default rotor-average model: `RotorCenter`\n",
    "- Default turbulence model: `None`"
   ]
  },
  {
   "cell_type": "markdown",
   "id": "0738b80f",
   "metadata": {},
   "source": [
    "All models require a `Site` and a `WindTurbine` object to run, and each of them may require additional inputs such as calibration parameters. The parameters shown are the default and used in the literature, but if necessary, they can be modified to better suit a particular case study.\n",
    "\n",
    "In the case of Fuga, a file with look up tables is needed; the file is created by specifying the turbine's rotor diameter, hub height and roughness length of the site to study.\n",
    "\n",
    "For information on the calculation of the velocity deficit for each model, please refer to the [Wake Deficit Models](WakeDeficitModels.ipynb) notebook."
   ]
  },
  {
   "cell_type": "markdown",
   "id": "c015a900",
   "metadata": {},
   "source": [
    "Below are some examples of different wind farm models under the `PropagateDownwind` base class. The full set of pre-defined wind farm models can be found in PyWake's repository under the [literature](https://gitlab.windenergy.dtu.dk/TOPFARM/PyWake/-/tree/master/py_wake/literature) folder."
   ]
  },
  {
   "cell_type": "markdown",
   "id": "04cafce5",
   "metadata": {},
   "source": [
    "**1) Bastankhah Gaussian**\n",
    "    \n",
    "```python\n",
    "class Bastankhah_PorteAgel_2014(PropagateDownwind):\n",
    "def __init__(self, site, windTurbines, k=0.0324555, ceps=.2, ct2a=ct2a_madsen, use_effective_ws=False,\n",
    "                 rotorAvgModel=None, superpositionModel=SquaredSum(),\n",
    "                 deflectionModel=None, turbulenceModel=None, groundModel=None):\n",
    "```\n",
    "\n",
    "**2) Niayifar Gaussian**\n",
    "\n",
    "```python\n",
    "class Niayifar_PorteAgel_2016(PropagateDownwind):\n",
    "def __init__(self, site, windTurbines, a=[0.38, 4e-3], ceps=.2, superpositionModel=LinearSum(),\n",
    "                 deflectionModel=None, turbulenceModel=CrespoHernandez(), rotorAvgModel=None, groundModel=None,\n",
    "                 use_effective_ws=True, use_effective_ti=True):\n",
    "```\n",
    "\n",
    "**3) Zong Gaussian**\n",
    "\n",
    "```python\n",
    "class Zong_PorteAgel_2020(PropagateDownwind):\n",
    "def __init__(self, site, windTurbines, a=[0.38, 4e-3], deltawD=1. / np.sqrt(2), lam=7.5, B=3,\n",
    "                 rotorAvgModel=None, superpositionModel=WeightedSum(), deflectionModel=None,\n",
    "                 turbulenceModel=CrespoHernandez(), groundModel=None, use_effective_ws=True, use_effective_ti=True):\n",
    "```\n",
    "\n",
    "**3) TurbOPark**\n",
    "\n",
    "```python\n",
    "class Nygaard_2022(PropagateDownwind):\n",
    "def __init__(self, site, windTurbines):\n",
    "\n",
    "        wake_deficitModel = TurboGaussianDeficit(\n",
    "            ct2a=ct2a_mom1d,\n",
    "            groundModel=Mirror(),\n",
    "            rotorAvgModel=GaussianOverlapAvgModel())\n",
    "```\n",
    "\n",
    "**4) Fuga**\n",
    "```python\n",
    "class Ott_Nielsen_2014(PropagateDownwind):\n",
    "    def __init__(self, LUT_path, site, windTurbines,\n",
    "                 rotorAvgModel=None, deflectionModel=None, turbulenceModel=None, remove_wriggles=False):\n",
    "```"
   ]
  },
  {
   "cell_type": "markdown",
   "id": "39d52732",
   "metadata": {},
   "source": [
    "In addition, Fuga's wind farm model comes with the possibility of modeling blockage. For this, the `All2AllIterative` base class is used.\n",
    "\n",
    "```python\n",
    "class Ott_Nielsen_2014_Blockage(All2AllIterative):\n",
    "    def __init__(self, LUT_path, site, windTurbines, rotorAvgModel=None,\n",
    "                 deflectionModel=None, turbulenceModel=None, convergence_tolerance=1e-6, remove_wriggles=False):\n",
    "```"
   ]
  }
 ],
 "metadata": {
  "kernelspec": {
   "display_name": "Python 3 (ipykernel)",
   "language": "python",
   "name": "python3"
  },
  "language_info": {
   "codemirror_mode": {
    "name": "ipython",
    "version": 3
   },
   "file_extension": ".py",
   "mimetype": "text/x-python",
   "name": "python",
   "nbconvert_exporter": "python",
   "pygments_lexer": "ipython3",
   "version": "3.9.13"
  }
 },
 "nbformat": 4,
 "nbformat_minor": 5
}
