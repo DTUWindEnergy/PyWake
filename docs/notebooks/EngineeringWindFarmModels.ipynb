{
 "cells": [
  {
   "cell_type": "markdown",
   "metadata": {},
   "source": [
    "# Engineering WindFarmModels"
   ]
  },
  {
   "cell_type": "markdown",
   "metadata": {},
   "source": [
    "All Wind farms models take a `Site` and a `WindTurbines` object as input"
   ]
  },
  {
   "cell_type": "code",
   "execution_count": null,
   "metadata": {},
   "outputs": [],
   "source": [
    "# Install PyWake if needed\n",
    "try:\n",
    "    import py_wake\n",
    "except ModuleNotFoundError:\n",
    "    !pip install git+https://gitlab.windenergy.dtu.dk/TOPFARM/PyWake.git"
   ]
  },
  {
   "cell_type": "code",
   "execution_count": null,
   "metadata": {},
   "outputs": [],
   "source": [
    "# import and setup site and windTurbines\n",
    "import numpy as np\n",
    "import matplotlib.pyplot as plt\n",
    "import os\n",
    "import py_wake\n",
    "from py_wake.examples.data.hornsrev1 import V80, Hornsrev1Site\n",
    "\n",
    "site = Hornsrev1Site()\n",
    "windTurbines = V80()\n",
    "wt_x, wt_y = site.initial_position.T"
   ]
  },
  {
   "cell_type": "markdown",
   "metadata": {},
   "source": [
    "## Model overview\n",
    "![Engineering models](../_static/EngineeringModels.svg)\n",
    "\n",
    "The engineering wind farms models in PyWake are composed of one of two wind farms models in combination with a wake deficit model, a superposition model and optionally a blockage deficit and a turbulence model.\n",
    "\n",
    "- `WindFarmModel`: Defines the proceedure that detemines how wake and blockage deficits propagates in the wind farm. \n",
    "Two models are available:\n",
    "  - [PropagateDownwind](#PropagateDownwind) (fast, but blockage is neglected)\n",
    "  - [All2AllIterative](#All2AllIterative) (slower but supports blockage).\n",
    "- Wake `DeficitModel`: Calculate wake deficit from one wind turbine to downstream wind turbines or sites in the wind farm. Several common models are available: \n",
    "  - [NOJDeficit](#NOJDeficit)\n",
    "  - [FugaDeficit](#FugaDeficit)\n",
    "  - [BastankhahGaussianDeficit](#BastankhahGaussianDeficit)\n",
    "  - [NiayifarGaussianDeficit](#NiayifarGaussianDeficit)\n",
    "  - [ZongGaussianDeficit](#ZongGaussianDeficit)\n",
    "  - [IEA37SimpleBastankhahGaussianDeficit](#IEA37SimpleBastankhahGaussianDeficit)\n",
    "  - [GCLDeficit](#GCLDEficit)\n",
    "- `SuperpositionModel`: Defines how deficits from multiple sources sums up. Available models are:\n",
    "  - [LinearSum](#LinearSum): Deficits sum up linearly\n",
    "  - [SquaredSum](#SquaredSum): Deficits sum as root-sum-square\n",
    "  - [MaxSum](#MaxSum): Only the largest deficit is considered\n",
    "- Blockage `DeficitModel`: Calculate blockage deficit from one wind turbine to other wind turbines or sites in the wind farm. Some models, model upstream effects only while other also models downstream speed-up effects. Available models are:\n",
    "  - [SelfSimilarityDeficit](#SelfSimilarityDeficit)\n",
    "  - [SelfSimilarityDeficit2020](#SelfSimilarityDeficit2020)\n",
    "  - [FugaDeficit](#FugaDeficit)\n",
    "  - [VortexCylinder](#VortexCylinder)\n",
    "  - [VortexDipole](#VortexDipole)\n",
    "  - [RankineHalfBody](#RankineHalfBody)\n",
    "  - [HybridInduction](#HybridInduction)\n",
    "  - [Rathmann](#Rathmann)  \n",
    "- `RotorAvgModel`: Defines one or more points at the rotor to calculate a (weighted) rotor-average deficit from\n",
    "  - [RotorCenter](#RotorCenter): One point at the center of the rotor\n",
    "  - [GridRotorAvg](#GridRotorAvg): Custom grid in Cartesian coordinates\n",
    "  - [EqGridRotorAvg](#EqGridRotorAvg): Equidistant N x N Cartesian grid covering the rotor\n",
    "  - [GQGridRotorAvg](#GQGridRotorAvg): M x N cartesian grid using Gaussian quadrature coordinates and weights\n",
    "  - [PolarGridRotorAvg](#PolarGridRotorAvg): Custom grid in polar coordinates  \n",
    "  - [CGIRotorAVG](#CGIRotorAvg): Circular Gauss Integration\n",
    "- `DeflectionModel`: Calculate deflected downwind and crosswind distances due to yaw misalignment, shear etc. Available models are:\n",
    "  - [JimenezWakeDeflection](#JimenezWakeDeflection)\n",
    "- `TurbulenceModel`: Calculate added turbulence in the wake from one wind turbine to downstream wind turbines or sites in the wind farm. Available models are:\n",
    "  - [STF2005TurbulenceModel](#STF2005TurbulenceModel): Steen Frandsen, from IEC 2005 standard\n",
    "  - [STF2017TurbulenceModel](#STF2017TurbulenceModel): Steen Frandsen, from IEC 2017 standard\n",
    "  - [GCLTurbulence](#GCLTurbulence): Gunner Chr. Larsen\n",
    "  - [CrespoHernandez](#CrespoHernandez): A. Crespo and J. Hernández\n",
    "- `GroundModel`: Model effects of ground:\n",
    "  - [Mirror](#Mirror): The ground acts as a mirror on the wake\n"
   ]
  },
  {
   "cell_type": "markdown",
   "metadata": {},
   "source": [
    "## Predefined WindFarmModels\n",
    "The deficit models comprise:\n",
    "\n",
    "| Name | WindFarmModel | Wake DeficitModel | Blockage DeficitModel | SuperpositionModel |\n",
    "| :--- | :--- | :--- | :--- | :--- | \n",
    "| NOJ | [PropagateDownwind](#PropagateDownwind) | [NOJDeficit](#NOJDeficit) | - | [SquaredSum](#SquaredSum) |\n",
    "| Fuga | [PropagateDownwind](#PropagateDownwind) | [FugaDeficit](#FugaDeficit) | - | [LinearSum](#LinearSum) |\n",
    "| FugaBlockage | [All2AllIterative](#All2AllIterative) | [FugaDeficit](#FugaDeficit) | [FugaDeficit](#FugaDeficit) | [LinearSum](#LinearSum) |\n",
    "| BastankhahGaussian | [PropagateDownwind](#PropagateDownwind) | [BastankhahGaussianDeficit](#BastankhahGaussianDeficit) | - | [SquaredSum](#SquaredSum) |\n",
    "| IEA37SimpleBastankhahGaussian | [PropagateDownwind](#PropagateDownwind) | [IEA37SimpleBastankhahGaussianDeficit](#IEA37SimpleBastankhahGaussianDeficit) | - | [SquaredSum](#SquaredSum) |\n",
    "\n",
    "- Default rotor-average model: `RotorCenter`\n",
    "- Default turbulence model: `None`"
   ]
  },
  {
   "cell_type": "code",
   "execution_count": null,
   "metadata": {},
   "outputs": [],
   "source": [
    "from py_wake import NOJ\n",
    "from py_wake import Fuga\n",
    "from py_wake import FugaBlockage\n",
    "from py_wake import BastankhahGaussian\n",
    "from py_wake import IEA37SimpleBastankhahGaussian\n",
    "\n",
    "# Path to Fuga look-up tables\n",
    "lut_path = os.path.dirname(py_wake.__file__)+'/tests/test_files/fuga/2MW/Z0=0.03000000Zi=00401Zeta0=0.00E+00/'\n",
    "\n",
    "models = {'NOJ': NOJ(site,windTurbines), \n",
    "          'Fuga': Fuga(lut_path,site,windTurbines),\n",
    "          'FugaBlockage': FugaBlockage(lut_path,site,windTurbines), \n",
    "          'BGaus': BastankhahGaussian(site,windTurbines),\n",
    "          'IEA37BGaus': IEA37SimpleBastankhahGaussian(site,windTurbines)\n",
    "         }"
   ]
  },
  {
   "cell_type": "markdown",
   "metadata": {},
   "source": [
    "These models can easily be combined with other models, e.g. NOJ with linear sum superposition:"
   ]
  },
  {
   "cell_type": "code",
   "execution_count": null,
   "metadata": {},
   "outputs": [],
   "source": [
    "from py_wake.superposition_models import LinearSum\n",
    "models['NOJLinear'] = NOJ(site,windTurbines,superpositionModel=LinearSum())"
   ]
  },
  {
   "cell_type": "markdown",
   "metadata": {},
   "source": [
    "or models can be combined in custom ways, e.g. NOJDeficit for the wake, LinearSum superposition and SelfSimilarityDeficit for the blockage:"
   ]
  },
  {
   "cell_type": "code",
   "execution_count": null,
   "metadata": {},
   "outputs": [],
   "source": [
    "from py_wake.wind_farm_models import All2AllIterative\n",
    "from py_wake.deficit_models import NOJDeficit, SelfSimilarityDeficit\n",
    "models['NOJ_ss'] = All2AllIterative(site,windTurbines,\n",
    "                                          wake_deficitModel=NOJDeficit(),\n",
    "                                          superpositionModel=LinearSum(), \n",
    "                                          blockage_deficitModel=SelfSimilarityDeficit() )"
   ]
  },
  {
   "cell_type": "code",
   "execution_count": null,
   "metadata": {},
   "outputs": [],
   "source": [
    "for name, model in models.items():\n",
    "    print (\"%s: %s\"%(name, model))"
   ]
  },
  {
   "cell_type": "markdown",
   "metadata": {},
   "source": [
    "## Engineering WindFarmModel base classes\n",
    "\n",
    "### PropagateDownwind\n",
    "The `PropagateDownwind` wind farm model is very fast as it only performs a minimum of deficit calculations. It iterates over all turbines in downstream order. In each iteration it calculates the effective wind speed at the current wind turbine as the free stream wind speed minus the sum up the deficit from upstream sources. Based on this effective wind speed, it calculates the deficit caused by the current turbine on all downstream destinations. Note, that this procedure neglects upstream blockage effects.\n",
    "\n",
    "```python\n",
    "\n",
    "for wt in wind turbines in downstream order:\n",
    "    ws_eff[wt] = ws[wt] - superposition(deficit[from_upstream_src,to_wt])\n",
    "    ct = windTurbines.ct(ws_eff[wt])\n",
    "    deficit[from_wt,to_downstream_dst] = wakeDeficitModel(ct, distances[from_wt,to_downstream_dst], ...)\n",
    "```\n",
    "\n",
    "The proceedure is illustrated in the animation below:\n",
    "- Iteration 1: WT0 sees the free wind (10m/s). Its deficit on WT1 and WT2 is calculated.\n",
    "- Iteration 2: WT1 sees the free wind minus the deficit from WT0. Its deficit on WT2 is calculated and the effective wind speed at WT2 is updated"
   ]
  },
  {
   "cell_type": "markdown",
   "metadata": {},
   "source": [
    "![PropagateDownwind](../_static/PropagateDownwind.gif)"
   ]
  },
  {
   "cell_type": "code",
   "execution_count": null,
   "metadata": {},
   "outputs": [],
   "source": [
    "%%timeit -r1\n",
    "# simulate with 20 wind turbines, 360 wind directions and 23 wind speeds\n",
    "models['Fuga'](wt_x[:20],wt_y[:20])"
   ]
  },
  {
   "cell_type": "markdown",
   "metadata": {},
   "source": [
    "### All2AllIterative\n",
    "The `All2AllIterative` wind farm model is slower but is capable of handling blockage effects. <br/> \n",
    "It iterates until the effective wind speed converge (i.e. less than or equal to the maximum number of turbines that affect each other in the wind farm. The converge tolerance is an input parameter).<br/> \n",
    "In each iteration it sums up the deficit from all wind turbine sources and calculates the deficit caused by the all wind turbines turbine on all wind turbines.\n",
    "\n",
    "```python\n",
    "\n",
    "while ws_eff not converged:\n",
    "    ws_eff[all] = ws[all] - superposition(deficit[from_all,to_all])\n",
    "    ct[all] = windTurbines.ct(ws_eff[all])\n",
    "    deficit[from_all,to_all] = wakeDeficitModel(ct[all], distances[from_all,to_all], ...)\n",
    "```\n",
    "\n",
    "The proceedure is illustrated in the animation below:\n",
    "- Iteration 1: All three WT see the free wind (10m/s) and their CT values and resulting deficits are therefore equal\n",
    "- Iteration 2: The local effective wind speeds are updated taking into account the wake and blockage effects of the other WT. Based on these wind speeds the CT and deficits are recalculated\n",
    "- Iteration 3: Repeat after which the flow field has converged"
   ]
  },
  {
   "cell_type": "markdown",
   "metadata": {},
   "source": [
    "![All2AllIterative](../_static/All2AllIterative.gif)"
   ]
  },
  {
   "cell_type": "code",
   "execution_count": null,
   "metadata": {},
   "outputs": [],
   "source": [
    "%%timeit -r1\n",
    "# simulate with 20 wind turbines, 360 wind directions and 23 wind speeds\n",
    "models['FugaBlockage'](wt_x[:20],wt_y[:20])"
   ]
  },
  {
   "cell_type": "markdown",
   "metadata": {},
   "source": [
    "## Wake deficit models\n",
    "The wake deficit models compute the wake deficit caused by a single wind turbine. \n",
    "\n",
    "**Variable suffixes**\n",
    "\n",
    "The implementation of the deficit models is highly vectorized and therefore suffixes are used to indicate the dimension of variables. The suffixes used in this context are:\n",
    "\n",
    "- i: source wind turbines\n",
    "- j: destination wind turbines\n",
    "- k: wind speeds\n",
    "- l: wind directions\n",
    "\n",
    "This means that `deficit_ijlk[0,1,2,3]` holds the deficit caused by the first turbine on the second turbine for the third  wind direction and fourth wind speed"
   ]
  },
  {
   "cell_type": "code",
   "execution_count": null,
   "metadata": {},
   "outputs": [],
   "source": [
    "# methods to plot deficit map, used below to visualize and compare the deficit models\n",
    "\n",
    "import numpy as np\n",
    "import matplotlib.pyplot as plt\n",
    "from matplotlib import cm\n",
    "from matplotlib.colors import ListedColormap, LinearSegmentedColormap\n",
    "from py_wake.deficit_models import BastankhahGaussianDeficit\n",
    "D = 80\n",
    "def _map(f, xy=None):\n",
    "    X, Y = np.meshgrid(*xy)\n",
    "    x_j, y_j = X.flatten(), Y.flatten()\n",
    "    downwind_distance_ijlk = x_j.reshape((1, -1, 1, 1))\n",
    "    crosswind_distance_ijlk = np.abs(y_j.reshape((1, -1, 1, 1)))\n",
    "    ws = 10\n",
    "    res_ijlk = f(\n",
    "        # specify arguments for all models\n",
    "        WS_ilk=np.array([[[ws]]]),  # wind speed at source turbine\n",
    "        D_src_il=np.array([[D]]),  # diameter of source turbine\n",
    "        D_dst_ijl=None,  # diameter of destination turbine\n",
    "        h_il=np.array([[67]]),  # source turbine hub height\n",
    "        dw_ijlk=downwind_distance_ijlk,  # down wind distance\n",
    "        hcw_ijlk=crosswind_distance_ijlk,  # horizontal cross wind distance\n",
    "        dh_ijlk=np.zeros_like(crosswind_distance_ijlk),\n",
    "        # height difference(vertical cross wind distance) between source and destination turbine\n",
    "        cw_ijlk=crosswind_distance_ijlk,  # cross wind distance (both horizontal and vertical)\n",
    "        ct_ilk=np.array([[[8 / 9]]]),  # thrust coefficient\n",
    "        WS_eff_ilk=np.array([[[ws]]]),  # effective wind speed at source turbine\n",
    "        TI_ilk=np.array([[[0.1]]]),\n",
    "        TI_eff_ilk=np.array([[[0.1]]]),\n",
    "        wake_radius_ijlk=BastankhahGaussianDeficit().wake_radius(dw_ijlk=downwind_distance_ijlk, \n",
    "                                                  D_src_il=np.array([[D]]), \n",
    "                                                  ct_ilk=np.array([[[8 / 9]]])),\n",
    "    )\n",
    "    return X / D, Y / D, res_ijlk[0, :, 0, 0].reshape(X.shape)\n",
    "\n",
    "    \n",
    "def plot_deficit_map(model, cmap='Blues', levels=np.linspace(0,10,55)):\n",
    "    xy = np.linspace(-200,500,200), np.linspace(-200,200,200)\n",
    "    X,Y,deficit = _map(model.calc_deficit, xy)\n",
    "    c = plt.contourf(X,Y,deficit, levels=levels, cmap=cmap)\n",
    "    plt.colorbar(c, label=\"Deficit [m/s]\")\n",
    "    plt.plot([0,0],[-1/2,1/2],'k')\n",
    "    plt.ylabel(\"Crosswind distance [y/D]\")\n",
    "    plt.xlabel(\"downwind distance [x/D]\")\n",
    "\n",
    "def plot_wake_deficit_map(model):\n",
    "    cmap = np.r_[[[1,1,1,1],[1,1,1,1]],cm.Blues(np.linspace(-0,1,128))] # ensure zero deficit is white\n",
    "    plot_deficit_map(model,cmap=ListedColormap(cmap))\n",
    "\n",
    "def plot_blockage_deficit_map(model):\n",
    "    from matplotlib import cm\n",
    "    from matplotlib.colors import ListedColormap, LinearSegmentedColormap\n",
    "    cmap = np.r_[cm.Reds_r(np.linspace(-0,1,127)),[[1,1,1,1],[1,1,1,1]],cm.Blues(np.linspace(-0,1,128))] # ensure zero deficit is white\n",
    "    plot_deficit_map(model,cmap=ListedColormap(cmap), levels=np.linspace(-3.5,3.5,113))\n"
   ]
  },
  {
   "cell_type": "markdown",
   "metadata": {},
   "source": [
    "### NOJDeficit\n",
    "\n",
    "The NOJDeficit model is implemented according to Niels Otto Jensen, \"A note on wind generator interaction.\" (1983), i.e. a top-hat wake, only valid in the far wake\n"
   ]
  },
  {
   "cell_type": "code",
   "execution_count": null,
   "metadata": {},
   "outputs": [],
   "source": [
    "from py_wake.deficit_models import NOJDeficit\n",
    "plot_wake_deficit_map(NOJDeficit())"
   ]
  },
  {
   "cell_type": "markdown",
   "metadata": {},
   "source": [
    "### FugaDeficit\n",
    "\n",
    "The FugaDeficit model calculates the wake deficit based on a set op look-up tables computed by a linearized RANS solver. The look-up tables be created in advance using the [Fuga GUI](https://orbit.dtu.dk/en/publications/developments-of-the-offshore-wind-turbine-wake-model-fuga)\n",
    "\n",
    "The fugaDeficit models both near wake, far wake and blockage deficit"
   ]
  },
  {
   "cell_type": "code",
   "execution_count": null,
   "metadata": {},
   "outputs": [],
   "source": [
    "import os\n",
    "import py_wake\n",
    "from py_wake.deficit_models import FugaDeficit\n",
    "\n",
    "# Path to Fuga look-up tables\n",
    "lut_path = os.path.dirname(py_wake.__file__)+'/tests/test_files/fuga/2MW/Z0=0.03000000Zi=00401Zeta0=0.00E+00/'\n",
    "\n",
    "plot_wake_deficit_map(FugaDeficit(lut_path))"
   ]
  },
  {
   "cell_type": "markdown",
   "metadata": {},
   "source": [
    "### BastankhahGaussianDeficit\n",
    "\n",
    "The `BastankhahGaussianDeficit` model is implemented according to Bastankhah M and Porté-Agel F. \"A new analytical model for wind-turbine wakes\" J. Renew. Energy. 2014;70:116-23. The model is valid in the far wake only."
   ]
  },
  {
   "cell_type": "code",
   "execution_count": null,
   "metadata": {},
   "outputs": [],
   "source": [
    "from py_wake.deficit_models import BastankhahGaussianDeficit\n",
    "plot_wake_deficit_map(BastankhahGaussianDeficit())"
   ]
  },
  {
   "cell_type": "markdown",
   "metadata": {},
   "source": [
    "### IEA37SimpleBastankhahGaussianDeficit\n",
    "\n",
    "The `IEA37SimpleBastankhahGaussian` model is implemented according to the [IEA task 37 documentation](https://github.com/byuflowlab/iea37-wflo-casestudies/blob/master/cs1-2/iea37-wakemodel.pdf) and is equivalent to BastankhahGaussian for $beta=1/\\sqrt{8} \\sim ct=0.9637188$. The model is valid in the far wake only."
   ]
  },
  {
   "cell_type": "code",
   "execution_count": null,
   "metadata": {},
   "outputs": [],
   "source": [
    "from py_wake.deficit_models import IEA37SimpleBastankhahGaussianDeficit\n",
    "plot_wake_deficit_map(IEA37SimpleBastankhahGaussianDeficit())"
   ]
  },
  {
   "cell_type": "markdown",
   "metadata": {},
   "source": [
    "### GCLDeficit\n",
    "\n",
    "    Implemented according to:\n",
    "            Larsen, G. C. (2009). A simple stationary semi-analytical wake model.\n",
    "            Risoe National Laboratory for Sustainable Energy,\n",
    "            Technical University of Denmark. Denmark.\n",
    "            Forskningscenter Risoe. Risoe-R, No. 1713(EN)\n",
    "\n",
    "    Description:\n",
    "        based on an analytical solution of the thin shear layer approximation of the NS equations.\n",
    "        The wake flow fields are assumed rotationally symmetric, and the rotor inflow fields\n",
    "        are consistently assumed uniform.\n",
    "        The effect of expansion is approximately accounted for by imposing suitable\n",
    "        empirical downstream boundary conditions on the wake expansion that depend\n",
    "        on the rotor thrust and the ambient turbulence conditions, respectively."
   ]
  },
  {
   "cell_type": "code",
   "execution_count": null,
   "metadata": {},
   "outputs": [],
   "source": [
    "from py_wake.deficit_models import GCLDeficit\n",
    "plot_wake_deficit_map(GCLDeficit())"
   ]
  },
  {
   "cell_type": "markdown",
   "metadata": {},
   "source": [
    "### NiayifarGaussianDeficit\n",
    "  \n",
    "    Implemented according to:\n",
    "        Amin Niayifar and Fernando Porté-Agel\n",
    "        Analytical Modeling of Wind Farms: A New Approach for Power Prediction\n",
    "        Energies 2016, 9, 741; doi:10.3390/en9090741\n",
    "\n",
    "    Features:\n",
    "        - Wake expansion function of local turbulence intensity\n",
    "\n",
    "    Description:\n",
    "        The expansion rate 'k' varies linearly with local turbluence\n",
    "        intensity: k = a1 I + a2. The default constants are set\n",
    "        according to publications by Porte-Agel's group, which are based\n",
    "        on LES simulations. Lidar field measurements by Fuertes et al. (2018)\n",
    "        indicate that a = [0.35, 0.0] is also a valid selection."
   ]
  },
  {
   "cell_type": "code",
   "execution_count": null,
   "metadata": {},
   "outputs": [],
   "source": [
    "from py_wake.deficit_models import NiayifarGaussianDeficit\n",
    "plot_wake_deficit_map(NiayifarGaussianDeficit(a=[0.38, 4e-3]))"
   ]
  },
  {
   "cell_type": "markdown",
   "metadata": {},
   "source": [
    "### ZongGaussianDeficit\n",
    "  \n",
    "    Implemented according to:\n",
    "        Haohua Zong and Fernando Porté-Agel\n",
    "        A momentum-conserving wake superposition method for\n",
    "        wind farm power prediction\n",
    "        J. Fluid Mech. (2020), vol. 889, A8; doi:10.1017/jfm.2020.77\n",
    "\n",
    "    Features:\n",
    "        - Wake expansion function of local turbulence intensity\n",
    "        - New wake width expression following the approach by\n",
    "          Shapiro et al. (2018)\n",
    "\n",
    "    Description:\n",
    "        Extension of the Niayifar et al. (2016) implementation with Shapirio\n",
    "        wake width expression, which uses the near-wake length estimation by\n",
    "        Vermeulen (1980)."
   ]
  },
  {
   "cell_type": "code",
   "execution_count": null,
   "metadata": {},
   "outputs": [],
   "source": [
    "from py_wake.deficit_models import ZongGaussianDeficit\n",
    "plot_wake_deficit_map(ZongGaussianDeficit(a=[0.38, 4e-3]))"
   ]
  },
  {
   "cell_type": "markdown",
   "metadata": {},
   "source": [
    "### GCLDeficit\n",
    "\n",
    "    Implemented according to:\n",
    "            Larsen, G. C. (2009). A simple stationary semi-analytical wake model. \n",
    "            Risø National Laboratory for Sustainable Energy, \n",
    "            Technical University of Denmark. Denmark. \n",
    "            Forskningscenter Risoe. Risoe-R, No. 1713(EN)\n",
    "\n",
    "    Description:\n",
    "        based on an analytical solution of the thin shear layer approximation of the NS equations. \n",
    "        The wake flow fields are assumed rotationally symmetric, and the rotor inflow fields \n",
    "        are consistently assumed uniform.\n",
    "        The effect of expansion is approximately accounted for by imposing suitable \n",
    "        empirical downstream boundary conditions on the wake expansion that depend \n",
    "        on the rotor thrust and the ambient turbulence conditions, respectively. "
   ]
  },
  {
   "cell_type": "code",
   "execution_count": null,
   "metadata": {},
   "outputs": [],
   "source": [
    "from py_wake.deficit_models import GCLDeficit\n",
    "plot_wake_deficit_map(GCLDeficit())"
   ]
  },
  {
   "cell_type": "markdown",
   "metadata": {},
   "source": [
    "### Compare deficit models"
   ]
  },
  {
   "cell_type": "code",
   "execution_count": null,
   "metadata": {},
   "outputs": [],
   "source": [
    "deficitModels = [NOJDeficit(),\n",
    "                 FugaDeficit(lut_path),\n",
    "                 BastankhahGaussianDeficit(),\n",
    "                 IEA37SimpleBastankhahGaussianDeficit(),\n",
    "                 NiayifarGaussianDeficit(),\n",
    "                 ZongGaussianDeficit(),\n",
    "                 GCLDeficit()]"
   ]
  },
  {
   "cell_type": "markdown",
   "metadata": {},
   "source": [
    "**Deficit along center line**"
   ]
  },
  {
   "cell_type": "code",
   "execution_count": null,
   "metadata": {},
   "outputs": [],
   "source": [
    "plt.figure(figsize=((10,6)))\n",
    "for deficitModel in deficitModels:\n",
    "    X, Y, deficit = _map(deficitModel.calc_deficit, xy=(np.linspace(-200,500,300), 0))\n",
    "    plt.plot(X[0], deficit[0], label=deficitModel.__class__.__name__)\n",
    "plt.title(\"Center line deficit\")\n",
    "plt.xlabel('x/D')\n",
    "plt.ylabel('Deficit [m/s]')\n",
    "plt.legend()"
   ]
  },
  {
   "cell_type": "markdown",
   "metadata": {},
   "source": [
    "**Deficit profile 2D downstream**"
   ]
  },
  {
   "cell_type": "code",
   "execution_count": null,
   "metadata": {},
   "outputs": [],
   "source": [
    "plt.figure(figsize=((10,6)))\n",
    "for deficitModel in deficitModels:\n",
    "    X, Y, deficit = _map(deficitModel.calc_deficit, xy=(2*D, np.linspace(-200,200,300)))\n",
    "    plt.plot(Y[:,], deficit[:,0], label=deficitModel.__class__.__name__)\n",
    "\n",
    "plt.legend()"
   ]
  },
  {
   "cell_type": "markdown",
   "metadata": {},
   "source": [
    "### Implement your own deficit models\n",
    "Deficit models must subclass `DeficitModel`and thus must implement the `calc_deficit` method and a class variable, `args4deficit` specifying the arguments required by its `calc_deficit` method\n",
    "\n",
    "```python \n",
    "class DeficitModel(ABC):\n",
    "    args4deficit = ['WS_ilk', 'dw_ijlk']\n",
    "\n",
    "    @abstractmethod\n",
    "    def calc_deficit(self):\n",
    "        \"\"\"Calculate wake deficit caused by the x'th most upstream wind turbines\n",
    "        for all wind directions(l) and wind speeds(k) on a set of points(j)\n",
    "\n",
    "        This method must be overridden by subclass\n",
    "\n",
    "        Arguments required by this method must be added to the class list\n",
    "        args4deficit\n",
    "\n",
    "        See class documentation for examples and available arguments\n",
    "\n",
    "        Returns\n",
    "        -------\n",
    "        deficit_ijlk : array_like\n",
    "        \"\"\"\n",
    "```"
   ]
  },
  {
   "cell_type": "code",
   "execution_count": null,
   "metadata": {},
   "outputs": [],
   "source": [
    "from py_wake.deficit_models import WakeDeficitModel\n",
    "from numpy import newaxis as na\n",
    "class MyDeficitModel(WakeDeficitModel):\n",
    "    args4deficit = ['WS_ilk', 'dw_ijlk', 'cw_ijlk']\n",
    "\n",
    "    def calc_deficit(self, WS_ilk, dw_ijlk, cw_ijlk,**_):\n",
    "        # 10% deficit in downstream triangle\n",
    "        ws_10pct_ijlk = 0.1*WS_ilk[:,na]\n",
    "        triangle_ijlk = ((.2*dw_ijlk) >cw_ijlk)\n",
    "        return ws_10pct_ijlk *triangle_ijlk\n",
    "\n",
    "plot_wake_deficit_map(MyDeficitModel())\n"
   ]
  },
  {
   "cell_type": "markdown",
   "metadata": {},
   "source": [
    "## Superposition models\n",
    "The super position models calculates the effective wind speed given the local wind speed and deficits (typically from multiple sources)"
   ]
  },
  {
   "cell_type": "markdown",
   "metadata": {},
   "source": [
    "### LinearSum"
   ]
  },
  {
   "cell_type": "code",
   "execution_count": null,
   "metadata": {},
   "outputs": [],
   "source": [
    "linear_sum = IEA37SimpleBastankhahGaussian(site, windTurbines, superpositionModel=LinearSum())\n",
    "plt.figure(figsize=(10,4))\n",
    "linear_sum([0,200],[0,0],wd=270,ws=10).flow_map().plot_wake_map(levels=np.arange(1,10))"
   ]
  },
  {
   "cell_type": "markdown",
   "metadata": {},
   "source": [
    "### SquaredSum"
   ]
  },
  {
   "cell_type": "code",
   "execution_count": null,
   "metadata": {},
   "outputs": [],
   "source": [
    "from py_wake.superposition_models import SquaredSum\n",
    "squared_sum = IEA37SimpleBastankhahGaussian(site, windTurbines, superpositionModel=SquaredSum())\n",
    "plt.figure(figsize=(10,4))\n",
    "squared_sum([0,200],[0,0],wd=270,ws=10).flow_map().plot_wake_map(levels=np.arange(1,10))"
   ]
  },
  {
   "cell_type": "markdown",
   "metadata": {},
   "source": [
    "### MaxSum"
   ]
  },
  {
   "cell_type": "code",
   "execution_count": null,
   "metadata": {},
   "outputs": [],
   "source": [
    "from py_wake.superposition_models import MaxSum\n",
    "max_sum = IEA37SimpleBastankhahGaussian(site, windTurbines, superpositionModel=MaxSum())\n",
    "plt.figure(figsize=(10,4))\n",
    "max_sum([0,200],[0,0],wd=270,ws=10).flow_map().plot_wake_map(levels=np.arange(1,10))"
   ]
  },
  {
   "cell_type": "markdown",
   "metadata": {},
   "source": [
    "## Blockage deficit models\n",
    "\n",
    "The blockage deficit models compute the blockage effects caused by a single wind turbine. Their structure are quite similar to the [wake deficit models](#Wake-deficit-models). They model upstream blockage effects (wind speed reduction) and in addition, some models also models downstream speed-up effects."
   ]
  },
  {
   "cell_type": "markdown",
   "metadata": {},
   "source": [
    "### SelfSimilarityDeficit\n",
    "Simple inductionmodel model, described in [N. Troldborg, A.R. Meyer Fortsing, Wind Energy, 2016](https://onlinelibrary.wiley.com/doi/full/10.1002/we.2137)"
   ]
  },
  {
   "cell_type": "code",
   "execution_count": null,
   "metadata": {},
   "outputs": [],
   "source": [
    "from py_wake.deficit_models import SelfSimilarityDeficit\n",
    "plot_blockage_deficit_map(SelfSimilarityDeficit())"
   ]
  },
  {
   "cell_type": "markdown",
   "metadata": {},
   "source": [
    "### SelfSimilarityDeficit2020\n",
    "\n",
    "This is an updated version of [N. Troldborg, A.R. Meyer Fortsing, Wind Energy, 2016](https://onlinelibrary.wiley.com/doi/full/10.1002/we.2137). The new features are found in the radial and axial functions:\n",
    "\n",
    "1. Radially Eq. (13) is replaced by a linear fit, which ensures the induction half width, `r12`, to continue to diminish approaching the rotor. This avoids unphysically large lateral induction tails, which could negatively influence wind farm simulations.\n",
    "2. The value of gamma in Eq. (8) is revisited. Now gamma is a function of CT and axial coordinate to force the axial induction to match the simulated results more closely. The fit is valid over a larger range of thrust coefficients and the results of the constantly loaded rotor are excluded in the fit."
   ]
  },
  {
   "cell_type": "code",
   "execution_count": null,
   "metadata": {},
   "outputs": [],
   "source": [
    "from py_wake.deficit_models import SelfSimilarityDeficit2020\n",
    "plot_blockage_deficit_map(SelfSimilarityDeficit2020())"
   ]
  },
  {
   "cell_type": "markdown",
   "metadata": {},
   "source": [
    "### FugaDeficit\n",
    "\n",
    "The FugaDeficit model calculates the wake deficit based on a set op look-up tables computed by a linearized RANS solver. The look-up tables be created in advance using the [Fuga GUI](https://orbit.dtu.dk/en/publications/developments-of-the-offshore-wind-turbine-wake-model-fuga)\n",
    "\n",
    "The fugaDeficit models both near wake, far wake and blockage deficit.\n",
    "\n",
    "Note, the present look-up table generator introduces some unphysical wriggles in the blockage deficit/speed-up"
   ]
  },
  {
   "cell_type": "code",
   "execution_count": null,
   "metadata": {},
   "outputs": [],
   "source": [
    "from py_wake.deficit_models import FugaDeficit\n",
    "plot_blockage_deficit_map(FugaDeficit())"
   ]
  },
  {
   "cell_type": "markdown",
   "metadata": {},
   "source": [
    "### VortexCylinder\n",
    "\n",
    "Induced velocity from a semi-infinite cylinder of tangential vorticity, extending along the z axis.\n",
    "\n",
    "This model is an adapted version of the one published by Emmanuel Branlard at https://github.com/ebranlard/wiz/blob/master/wiz/VortexCylinder.py\n",
    "\n",
    "References:\n",
    "\n",
    "- E. Branlard, M. Gaunaa, Cylindrical vortex wake model: right cylinder, Wind Energy, 2014, https://onlinelibrary.wiley.com/doi/full/10.1002/we.1800\n",
    "- E. Branlard, Wind Turbine Aerodynamics and Vorticity Based Method, Springer, 2017\n",
    "- E. Branlard, A. Meyer Forsting, Using a cylindrical vortex model to assess the induction zone in front of aligned and yawed rotors, in Proceedings of EWEA Offshore Conference, 2015, https://orbit.dtu.dk/en/publications/using-a-cylindrical-vortex-model-to-assess-the-induction-zone-inf"
   ]
  },
  {
   "cell_type": "code",
   "execution_count": null,
   "metadata": {},
   "outputs": [],
   "source": [
    "from py_wake.deficit_models import VortexCylinder\n",
    "plot_blockage_deficit_map(VortexCylinder())"
   ]
  },
  {
   "cell_type": "markdown",
   "metadata": {},
   "source": [
    "### VortexDipole\n",
    "\n",
    "The vorticity originating from a wind turbine can be represented by a vortex dipole line (see Appendix B in [2]). The induction estimated by such a representation is very similar to the results given by the more complex vortex cylinder model in the far-field r/R > 6 [1,2]. The implementation follows the relationships given in [1,2]. This model is an adapted version of the one published by Emmanuel Branlard: https://github.com/ebranlard/wiz/blob/master/wiz/VortexDoublet.py\n",
    "\n",
    "References:\n",
    "- [1] Emmanuel Branlard et al 2020 J. Phys.: Conf. Ser. 1618 062036\n",
    "- [2] Branlard, E, Meyer Forsting, AR. Wind Energy. 2020; 23: 2068– 2086.  https://doi.org/10.1002/we.2546"
   ]
  },
  {
   "cell_type": "code",
   "execution_count": null,
   "metadata": {},
   "outputs": [],
   "source": [
    "from py_wake.deficit_models import VortexDipole\n",
    "plot_blockage_deficit_map(VortexDipole())"
   ]
  },
  {
   "cell_type": "markdown",
   "metadata": {},
   "source": [
    "### RankineHalfBody\n",
    "\n",
    "A simple induction model using a Rankine Half Body to represent the induction introduced by a wind turbine. The source strength is determined enforcing 1D momentum balance at the rotor disc.\n",
    "\n",
    "References:\n",
    "\n",
    "- B Gribben, G Hawkes - A potential flow model for wind turbine induction and wind farm blockage - Technical Paper, Frazer-Nash Consultancy, 2019"
   ]
  },
  {
   "cell_type": "code",
   "execution_count": null,
   "metadata": {},
   "outputs": [],
   "source": [
    "from py_wake.deficit_models import RankineHalfBody\n",
    "plot_blockage_deficit_map(RankineHalfBody())"
   ]
  },
  {
   "cell_type": "markdown",
   "metadata": {},
   "source": [
    "### HybridInduction\n",
    "The idea behind this model originates from [2,3], which advocates to combine near-rotor and farfield approximations of a rotor's induced velocities. Whereas in [1,2] the motivation is to reduce the computational effort, here the already very fast self-similar model [1] is combined with the vortex dipole approximation in the far-field, as the self-similar one is optimized for the near-field (r/R > 6, x/R < 1) and misses the acceleration around the wake for x/R > 0. The combination of both allows capturing the redistribution of energy by blockage. Location at which to switch from near-rotor to far-field can be altered though by setting switch_radius.\n",
    "\n",
    "References:\n",
    "1. N. Troldborg, A.R. Meyer Fortsing, Wind Energy, 2016\n",
    "2. Emmanuel Branlard et al 2020 J. Phys.: Conf. Ser. 1618 062036\n",
    "3. Branlard, E, Meyer Forsting, AR. Wind Energy. 2020; 23: 2068– 2086. https://doi.org/10.1002/we.2546"
   ]
  },
  {
   "cell_type": "code",
   "execution_count": null,
   "metadata": {},
   "outputs": [],
   "source": [
    "from py_wake.deficit_models import HybridInduction\n",
    "plot_blockage_deficit_map(HybridInduction())"
   ]
  },
  {
   "cell_type": "markdown",
   "metadata": {},
   "source": [
    "### Rathmann\n",
    "\n",
    "Ole Sten Rathmann (DTU) developed in 2020 an approximation to the vortex cylinder solution (E. Branlard and M. Gaunaa, 2014). In speed it is comparable to the vortex dipole method, whilst giving a flow-field nearly identical to the vortex cylinder model for x/R < -1. Its centreline deficit is identical to the vortex cylinder model, whilst using a radial shape function that depends on the opening of the vortex cylinder seen from a point upstream. To simulate the speed-up downstream the deficit is mirrored in the rotor plane with a sign change."
   ]
  },
  {
   "cell_type": "code",
   "execution_count": null,
   "metadata": {},
   "outputs": [],
   "source": [
    "from py_wake.deficit_models import Rathmann\n",
    "plot_blockage_deficit_map(Rathmann())"
   ]
  },
  {
   "cell_type": "markdown",
   "metadata": {},
   "source": [
    "### Compare blokage deficit models"
   ]
  },
  {
   "cell_type": "code",
   "execution_count": null,
   "metadata": {},
   "outputs": [],
   "source": [
    "blockagedeficitModels = [SelfSimilarityDeficit(),\n",
    "                 SelfSimilarityDeficit2020(),\n",
    "                 FugaDeficit(),\n",
    "                 VortexCylinder(),\n",
    "                 VortexDipole(),\n",
    "                 RankineHalfBody(),\n",
    "                 HybridInduction(),\n",
    "                 Rathmann()]"
   ]
  },
  {
   "cell_type": "markdown",
   "metadata": {},
   "source": [
    "**Deficit along center line**"
   ]
  },
  {
   "cell_type": "code",
   "execution_count": null,
   "metadata": {},
   "outputs": [],
   "source": [
    "plt.figure(figsize=((10,6)))\n",
    "for deficitModel in blockagedeficitModels:\n",
    "    X, Y, deficit = _map(deficitModel.calc_deficit, xy=(np.linspace(-200,100,300), 0))\n",
    "    plt.plot(X[0], deficit[0], label=deficitModel.__class__.__name__)\n",
    "plt.title(\"Center line deficit\")\n",
    "plt.xlabel('x/D')\n",
    "plt.ylabel('Deficit [m/s]')\n",
    "plt.legend()"
   ]
  },
  {
   "cell_type": "markdown",
   "metadata": {},
   "source": [
    "**Deficit profile 1 up- and downstream**"
   ]
  },
  {
   "cell_type": "code",
   "execution_count": null,
   "metadata": {},
   "outputs": [],
   "source": [
    "for d in [-1,1]:\n",
    "    plt.figure(figsize=((10,6)))\n",
    "    for deficitModel in blockagedeficitModels:\n",
    "        X, Y, deficit = _map(deficitModel.calc_deficit, xy=(d*D, np.linspace(-200,200,300)))\n",
    "        plt.plot(Y[:,], deficit[:,0], label=deficitModel.__class__.__name__)\n",
    "    plt.title(\"%sD %sstream\"%(abs(d),('down','up')[d<0]))\n",
    "    plt.ylim([-.5,.5])\n",
    "    plt.xlabel('y/D')\n",
    "    plt.ylabel('Deficit [m/s]')\n",
    "    plt.legend()"
   ]
  },
  {
   "cell_type": "markdown",
   "metadata": {},
   "source": [
    "## Rotor-average models\n",
    "\n",
    "In the plots below, it is clearly seen that the wind speed varies over the rotor, and that the the rotor-average wind speed is not well-defined by the wind sped at the rotor center.\n"
   ]
  },
  {
   "cell_type": "code",
   "execution_count": null,
   "metadata": {},
   "outputs": [],
   "source": [
    "from py_wake.superposition_models import SquaredSum\n",
    "from py_wake.flow_map import HorizontalGrid, YZGrid\n",
    "R = D/2\n",
    "wfm = IEA37SimpleBastankhahGaussian(site, windTurbines, superpositionModel=SquaredSum())\n",
    "sim_res = wfm([0,200],[0,0],wd=270,ws=10)\n",
    "fig,(ax1,ax2) = plt.subplots(1,2, figsize=(10,4))\n",
    "ax1.set_xlabel(\"x [m]\"), ax1.set_ylabel(\"y [m]\")\n",
    "sim_res.flow_map(HorizontalGrid(extend=.1)).plot_wake_map(10, ax=ax1, plot_colorbar=False)\n",
    "sim_res.flow_map(YZGrid(x=200)).plot_wake_map(10, ax=ax2)\n",
    "ax2.plot([-100,100],[70,70],'-.')\n",
    "ax2.set_xlabel(\"y [m]\"), ax1.set_ylabel(\"z [m]\")\n",
    "\n",
    "plt.figure()\n",
    "flow_map = sim_res.flow_map(HorizontalGrid(x=[200], y=np.arange(-80, 80)))\n",
    "\n",
    "for x in [-.5,.5]:\n",
    "    plt.gca().axvline(x,color='grey')\n",
    "plt.plot(flow_map.Y[:, 0]/D, flow_map.WS_eff_xylk[:, 0, 0, 0], '-.', label='Hub-height profile')\n",
    "plt.plot([-.5,.5],[7.73,7.73],label='Rotor average: 7.73m/s')\n",
    "rc_ws = flow_map.WS_eff_xylk[80, 0, 0, 0]\n",
    "plt.plot(flow_map.Y[80, 0]/D, rc_ws,'.', ms=10, label='Rotor center: %.2fm/s'%rc_ws)\n",
    "plt.legend()\n",
    "plt.xlabel(\"y/D\")\n",
    "plt.ylabel('Wind speed [m/s]')"
   ]
  },
  {
   "cell_type": "markdown",
   "metadata": {},
   "source": [
    "A better estimate of the rotor-average wind speed can be obtained by a (weighted) mean of the wind speed at a number of points covering the rotor. Here is a some model examples."
   ]
  },
  {
   "cell_type": "code",
   "execution_count": null,
   "metadata": {},
   "outputs": [],
   "source": [
    "from py_wake.rotor_avg_models import RotorCenter, GridRotorAvg, EqGridRotorAvg, GQGridRotorAvg, CGIRotorAvg, PolarGridRotorAvg,polar_gauss_quadrature\n",
    "from py_wake.flow_map import HorizontalGrid\n",
    "R=D/2\n",
    "def plot_rotor_avg_model(rotorAvgModel, name):\n",
    "    plt.figure()\n",
    "    m = rotorAvgModel\n",
    "    wfm = IEA37SimpleBastankhahGaussian(site,windTurbines,rotorAvgModel=m)\n",
    "    ws_eff = wfm([0, 200], [0, 0], wd=270, ws=10).WS_eff_ilk[1,0,0]\n",
    "    plt.title(name)\n",
    "    c = plt.scatter(m.nodes_x, m.nodes_y,c=m.nodes_weight,label=\"%.2fm/s\"%(ws_eff))\n",
    "    plt.colorbar(c,label='weight')\n",
    "    plt.gca().add_artist(plt.Circle((0,0),1,fill=False))\n",
    "    plt.axis('equal')\n",
    "    plt.xlabel(\"y/R [m]\"); plt.ylabel('z/R [m]')\n",
    "    plt.xlim([-1.5,1.5])\n",
    "    plt.ylim([-1.5,1.5])\n",
    "    plt.legend()"
   ]
  },
  {
   "cell_type": "markdown",
   "metadata": {},
   "source": [
    "### RotorCenter\n",
    "The `RotorCenter` model determines the rotor average wind speed from the rotor center point"
   ]
  },
  {
   "cell_type": "code",
   "execution_count": null,
   "metadata": {},
   "outputs": [],
   "source": [
    "plot_rotor_avg_model(RotorCenter(), 'RotorCenter')"
   ]
  },
  {
   "cell_type": "markdown",
   "metadata": {},
   "source": [
    "### GridRotorAvg\n",
    "\n",
    "The `GridRotorAvg` defines a set of points in cartesian coordinates"
   ]
  },
  {
   "cell_type": "code",
   "execution_count": null,
   "metadata": {},
   "outputs": [],
   "source": [
    "x = y = np.array([-.6, 0,.6])\n",
    "plot_rotor_avg_model(GridRotorAvg(x,y,nodes_weight = [0.25,.5,.25]), 'Grid_4')"
   ]
  },
  {
   "cell_type": "markdown",
   "metadata": {},
   "source": [
    "### EqGridRotorAvg\n",
    "\n",
    "The `EqGridRotorAvg` defines a NxN equidistant cartesian grid of points and discards points outside the rotor"
   ]
  },
  {
   "cell_type": "code",
   "execution_count": null,
   "metadata": {},
   "outputs": [],
   "source": [
    "plot_rotor_avg_model(EqGridRotorAvg(4), 'Grid_4')"
   ]
  },
  {
   "cell_type": "markdown",
   "metadata": {},
   "source": [
    "### GQGridRotorAvg\n",
    "\n",
    "The `GQGridRotorAvg` defines a grid of M x N cartesian grid points using Gaussian quadrature coordinates and weights"
   ]
  },
  {
   "cell_type": "code",
   "execution_count": null,
   "metadata": {},
   "outputs": [],
   "source": [
    "plot_rotor_avg_model(GQGridRotorAvg(4,3), 'GQGrid_4,3')"
   ]
  },
  {
   "cell_type": "markdown",
   "metadata": {},
   "source": [
    "### PolarGridRotorAvg\n",
    "\n",
    "The `PolarGridRotorAvg` defines a grid in polar coordinates."
   ]
  },
  {
   "cell_type": "code",
   "execution_count": null,
   "metadata": {},
   "outputs": [],
   "source": [
    "theta = np.linspace(-np.pi,np.pi,6, endpoint=False)\n",
    "r = 2/3\n",
    "plot_rotor_avg_model(PolarGridRotorAvg(nodes_r =r, nodes_theta=theta, nodes_weight=None), 'PolarGrid_6')"
   ]
  },
  {
   "cell_type": "markdown",
   "metadata": {},
   "source": [
    "The polar grid can be combined with Gaussian Quadrature. This is similar to the implementation in FusedWake (https://gitlab.windenergy.dtu.dk/TOPFARM/FUSED-Wake/-/blob/master/fusedwake/gcl/fortran/GCL.f)"
   ]
  },
  {
   "cell_type": "code",
   "execution_count": null,
   "metadata": {},
   "outputs": [],
   "source": [
    "plot_rotor_avg_model(PolarGridRotorAvg(*polar_gauss_quadrature(4,10)), 'PolarGrid_4,10')"
   ]
  },
  {
   "cell_type": "markdown",
   "metadata": {},
   "source": [
    "### CGIRotorAvg\n",
    "Circular Gauss integration with 4,7,9 or 21 points as defined in Abramowitz M and Stegun A. Handbook of Mathematical Functions. Dover: New York, 1970."
   ]
  },
  {
   "cell_type": "code",
   "execution_count": null,
   "metadata": {},
   "outputs": [],
   "source": [
    "for n in [4,7,9,21]:\n",
    "    plot_rotor_avg_model(CGIRotorAvg(n), 'CGIRotorAvg_%d'%n)"
   ]
  },
  {
   "cell_type": "markdown",
   "metadata": {},
   "source": [
    "### Compare rotor-average models\n",
    "In general, the compuational cost and the accuracy of the estimate increases with the number of points, but the distribution of the points also has an impact.\n",
    "\n",
    "The plot below shows the absolute error of the estimated rotor-average wind speed for the wind directions \n",
    "270$\\pm$30$^\\circ$ (i.e. wind directions with more than 1% deficit) for a number of different rotor-average models"
   ]
  },
  {
   "cell_type": "code",
   "execution_count": null,
   "metadata": {},
   "outputs": [],
   "source": [
    "grid_models = [EqGridRotorAvg(i) for i in range(1,10)]\n",
    "wd_lst = np.arange(240,301)\n",
    "\n",
    "def get_ws_eff(rotorAvgModel):\n",
    "    wfm = IEA37SimpleBastankhahGaussian(site,windTurbines,rotorAvgModel=rotorAvgModel)\n",
    "    return wfm([0, 200], [0, 0], wd=wd_lst, ws=10).WS_eff_ilk[1,:,0]\n",
    "\n",
    "ws_ref = get_ws_eff(EqGridRotorAvg(200)) # Use 200x200 points (31700 inside the rotor) to determine the reference value\n",
    "\n",
    "def get_n_err(rotorAvgModel):\n",
    "    ws_mean_err = np.abs(get_ws_eff(rotorAvgModel) - ws_ref).mean()\n",
    "    return len(rotorAvgModel.nodes_x), ws_mean_err\n",
    "        \n",
    "\n",
    "plt.gca().axhline(0, color='grey',ls='--')\n",
    "plt.plot(*zip(*[get_n_err(m) for m in grid_models]), label='Grid_x')\n",
    "model_lst = [('RotorCenter', EqGridRotorAvg(1)),\n",
    "             ('Grid_4', EqGridRotorAvg(4)),             \n",
    "             ('PolarGrid_4,10', PolarGridRotorAvg(*polar_gauss_quadrature(4,10))),\n",
    "             ('GQGrid_4,3', GQGridRotorAvg(4, 3))] + \\\n",
    "            [('CGI_%d'%n, CGIRotorAvg(n)) for n in [4,7,9,21]]\n",
    "for name, model in model_lst:\n",
    "    n,err = get_n_err(model)\n",
    "    plt.plot(n,err,'.',ms=10, label=\"%s (%.4f)\"%(name,err))\n",
    "plt.xlabel('Number of rotor-average points')\n",
    "plt.ylabel('Mean abs error (270$\\pm30^\\circ$) [m/s]')\n",
    "plt.legend()"
   ]
  },
  {
   "cell_type": "markdown",
   "metadata": {},
   "source": [
    "## Deflection models\n",
    "The deflection models calculate the deflection of the wake due to yaw-misalignment, sheared inflow etc. \n",
    "Note, this is one of the four effects of skew inflow that is handled in PyWake, see [here](https://topfarm.pages.windenergy.dtu.dk/PyWake/notebooks/YawMisalignment.html).\n",
    "The deflection models take as input the downwind and crosswind distances between the source wind turbines and the destination wind turbines/sites and calculate a new set of deflected downwind and crosswind distances."
   ]
  },
  {
   "cell_type": "code",
   "execution_count": null,
   "metadata": {},
   "outputs": [],
   "source": [
    "def plot_deflection(deflectionModel):\n",
    "    from py_wake import IEA37SimpleBastankhahGaussian\n",
    "    from py_wake.examples.data.iea37._iea37 import IEA37Site, IEA37_WindTurbines\n",
    "\n",
    "    site = IEA37Site(16)\n",
    "    x, y = [0, 400, 800], [0, 0, 0]\n",
    "    windTurbines = V80()\n",
    "    wfm = IEA37SimpleBastankhahGaussian(site, windTurbines, deflectionModel=deflectionModel)\n",
    "\n",
    "    yaw = [-20,20,0]\n",
    "\n",
    "    plt.figure(figsize=(14,4))\n",
    "    fm = wfm(x, y, yaw=yaw, wd=270, ws=10).flow_map()\n",
    "    fm.plot_wake_map()\n",
    "    fm.min_WS_eff().plot(color='k', ls='--')"
   ]
  },
  {
   "cell_type": "markdown",
   "metadata": {},
   "source": [
    "### JimenezWakeDeflection"
   ]
  },
  {
   "cell_type": "markdown",
   "metadata": {},
   "source": [
    "The `JimenezWakeDeflection` model is implemented according to Jiménez, Á., Crespo, A. and Migoya, E. (2010), Application of a LES technique to characterize the wake deflection of a wind turbine in yaw. Wind Energ., 13: 559-572. doi:10.1002/we.380"
   ]
  },
  {
   "cell_type": "code",
   "execution_count": null,
   "metadata": {},
   "outputs": [],
   "source": [
    "from py_wake.deflection_models import JimenezWakeDeflection\n",
    "plot_deflection(JimenezWakeDeflection())"
   ]
  },
  {
   "cell_type": "markdown",
   "metadata": {},
   "source": [
    "### FugaDeflection"
   ]
  },
  {
   "cell_type": "code",
   "execution_count": null,
   "metadata": {},
   "outputs": [],
   "source": [
    "from py_wake.deflection_models import FugaDeflection\n",
    "plot_deflection(FugaDeflection())"
   ]
  },
  {
   "cell_type": "markdown",
   "metadata": {},
   "source": [
    "### Implement your own deflection models\n",
    "\n",
    "Deficit models must subclass `DeficitModel` and thus must implement the `calc_deflection` method and a class variable, `args4deflection` specifying the arguments required by its calc_deflection method\n",
    "\n",
    "```python\n",
    "\n",
    "class DeflectionModel(ABC):\n",
    "    args4deflection = [\"ct_ilk\"]\n",
    "\n",
    "    @abstractmethod\n",
    "    def calc_deflection(self, dw_ijl, hcw_ijl, **kwargs):\n",
    "        \"\"\"Calculate deflection\n",
    "\n",
    "        This method must be overridden by subclass\n",
    "\n",
    "        Arguments required by this method must be added to the class list\n",
    "        args4deflection\n",
    "\n",
    "        See documentation of EngineeringWindFarmModel for a list of available input arguments\n",
    "\n",
    "        Returns\n",
    "        -------\n",
    "        dw_ijlk : array_like\n",
    "            downwind distance from source wind turbine(i) to destination wind turbine/site (j)\n",
    "            for all wind direction (l) and wind speed (k)\n",
    "        hcw_ijlk : array_like\n",
    "            horizontal crosswind distance from source wind turbine(i) to destination wind turbine/site (j)\n",
    "            for all wind direction (l) and wind speed (k)\n",
    "        \"\"\"\n",
    "```"
   ]
  },
  {
   "cell_type": "code",
   "execution_count": null,
   "metadata": {},
   "outputs": [],
   "source": [
    "from py_wake.deflection_models import DeflectionModel\n",
    "from numpy import newaxis as na\n",
    "class MyDeflectionModel(DeflectionModel):\n",
    "    args4deficit = ['dw_ijlk', 'cw_ijlk']\n",
    "\n",
    "    def calc_deflection(self, dw_ijl, hcw_ijl, **_):\n",
    "        dw_ijlk = dw_ijl[..., na] # add extra wind speed dimension\n",
    "        hcw_ijlk =hcw_ijl[..., na] + .1*dw_ijlk # deflect 1/10 of the downstream distance\n",
    "        dh_ijlk =np.zeros_like(hcw_ijl[..., na]) # no vertical deflection\n",
    "        return dw_ijlk, hcw_ijlk, dh_ijlk\n",
    "\n",
    "iea_my_deflection = IEA37SimpleBastankhahGaussian(site, windTurbines, deflectionModel=MyDeflectionModel())\n",
    "\n",
    "plt.figure(figsize=(10,4))\n",
    "iea_my_deflection(x, y, wd=270, ws=10).flow_map().plot_wake_map()\n"
   ]
  },
  {
   "cell_type": "markdown",
   "metadata": {},
   "source": [
    "## Turbulence models"
   ]
  },
  {
   "cell_type": "code",
   "execution_count": null,
   "metadata": {},
   "outputs": [],
   "source": [
    "# methods to plot turbulence map, used below to visualize and compare the deficit models\n",
    "   \n",
    "def plot_turb_map(turbulenceModel):\n",
    "    xy = np.linspace(-200,500,200), np.linspace(-200,200,200)\n",
    "    X,Y,deficit = _map(turbulenceModel.calc_added_turbulence, xy)\n",
    "    c = plt.contourf(X,Y,deficit, levels=100, cmap='Blues')\n",
    "    plt.colorbar(c, label=\"Added turbulence intensity [-]\")\n",
    "    plt.plot([0,0],[-1/2,1/2],'k')\n",
    "    plt.ylabel(\"Crosswind distance [y/D]\")\n",
    "    plt.xlabel(\"downwind distance [x/D]\")"
   ]
  },
  {
   "cell_type": "markdown",
   "metadata": {},
   "source": [
    "### STF2005TurbulenceModel\n",
    "\n",
    "Steen Frandsen model implemented according to IEC61400-1, 2005 and weight according to Steen Frandsen's [thesis](https://orbit.dtu.dk/en/publications/turbulence-and-turbulence-generated-structural-loading-in-wind-tu)"
   ]
  },
  {
   "cell_type": "code",
   "execution_count": null,
   "metadata": {},
   "outputs": [],
   "source": [
    "from py_wake.turbulence_models import STF2005TurbulenceModel\n",
    "plot_turb_map(STF2005TurbulenceModel())"
   ]
  },
  {
   "cell_type": "markdown",
   "metadata": {},
   "source": [
    "### STF2017TurbulenceModel\n",
    "\n",
    "Steen Frandsen model implemented according to IEC61400-1, 2017 and weight according to Steen Frandsen's [thesis](https://orbit.dtu.dk/en/publications/turbulence-and-turbulence-generated-structural-loading-in-wind-tu)"
   ]
  },
  {
   "cell_type": "code",
   "execution_count": null,
   "metadata": {},
   "outputs": [],
   "source": [
    "from py_wake.turbulence_models import STF2017TurbulenceModel\n",
    "plot_turb_map(STF2017TurbulenceModel())"
   ]
  },
  {
   "cell_type": "markdown",
   "metadata": {},
   "source": [
    "**STF20XXTurbulenceModel with IEC-based spread angle**\n",
    "\n",
    "The `STF2005TurbulenceModel` and `STF2017TurbulenceModel` take a `weight_function` input which defaults to the bell-shaped `FrandsenWeight` defined in Steen Frandsen's thesis. As an alternative the `IECWeight` applies the full added turbulence in a 21.6$^\\circ$ spread angle up to 10 diameter downstream. \n",
    "\n",
    "Note, this is a debatable interpretation of the IEC standard which includes a 6% contribution from neighbouring wind turbines when calculating the omni-directional effective turbulence intensity. These 6% maps to a spread angle of 360$^\\circ\\cdot$ 6% = 21.6$^\\circ$.\n",
    "\n",
    "Note, the IEC standard includes more concepts which is not implemented in PyWake"
   ]
  },
  {
   "cell_type": "code",
   "execution_count": null,
   "metadata": {},
   "outputs": [],
   "source": [
    "from py_wake.turbulence_models import STF2017TurbulenceModel, IECWeight\n",
    "from py_wake.superposition_models import SqrMaxSum\n",
    "plot_turb_map(STF2017TurbulenceModel(addedTurbulenceSuperpositionModel=SqrMaxSum(), \n",
    "                                     weight_function=IECWeight(distance_limit=10)))"
   ]
  },
  {
   "cell_type": "markdown",
   "metadata": {},
   "source": [
    "### GCLTurbulence\n",
    "\n",
    "Gunner Chr. Larsen model implemented according to \n",
    "    \n",
    "    Pierik, J. T. G., Dekker, J. W. M., Braam, H., Bulder, B. H., Winkelaar, D., Larsen, G. C., Morfiadakis, E., Chaviaropoulos, P., Derrick, A., & Molly, J. P. (1999). European wind turbine standards II (EWTS-II). In E. L. Petersen, P. Hjuler Jensen, K. Rave, P. Helm, & H. Ehmann (Eds.), Wind energy for the next millennium. Proceedings (pp. 568-571). James and James Science Publishers."
   ]
  },
  {
   "cell_type": "code",
   "execution_count": null,
   "metadata": {},
   "outputs": [],
   "source": [
    "from py_wake.turbulence_models import GCLTurbulence\n",
    "plot_turb_map(GCLTurbulence())"
   ]
  },
  {
   "cell_type": "markdown",
   "metadata": {},
   "source": [
    "### CrespoHernandez\n",
    "\n",
    "    Implemented according to:\n",
    "    A. Crespo and J. Hernández\n",
    "    Turbulence characteristics in wind-turbine wakes\n",
    "    J. of Wind Eng. and Industrial Aero. 61 (1996) 71-85"
   ]
  },
  {
   "cell_type": "code",
   "execution_count": null,
   "metadata": {},
   "outputs": [],
   "source": [
    "from py_wake.turbulence_models import CrespoHernandez\n",
    "plot_turb_map(CrespoHernandez())"
   ]
  },
  {
   "cell_type": "markdown",
   "metadata": {},
   "source": [
    "### Compare Turbulence models"
   ]
  },
  {
   "cell_type": "code",
   "execution_count": null,
   "metadata": {},
   "outputs": [],
   "source": [
    "turbulenceModels = [STF2005TurbulenceModel(),\n",
    "                 STF2017TurbulenceModel(),\n",
    "                 STF2017TurbulenceModel(addedTurbulenceSuperpositionModel=SqrMaxSum(), weight_function=IECWeight(10)),\n",
    "                 GCLTurbulence(),\n",
    "                 CrespoHernandez()]"
   ]
  },
  {
   "cell_type": "markdown",
   "metadata": {},
   "source": [
    "**turbulence intensity along center line**"
   ]
  },
  {
   "cell_type": "code",
   "execution_count": null,
   "metadata": {},
   "outputs": [],
   "source": [
    "plt.figure(figsize=((10,6)))\n",
    "for turbulenceModel in turbulenceModels:\n",
    "    X, Y, ti = _map(turbulenceModel.calc_added_turbulence, xy=(np.linspace(-200,500,300), 0))\n",
    "    l = turbulenceModel.__class__.__name__\n",
    "    if l.startswith('STF'):\n",
    "        l+=f\"({turbulenceModel.apply_weight.__self__.__class__.__name__})\"\n",
    "    plt.plot(X[0], ti[0], label=l)\n",
    "\n",
    "plt.legend()"
   ]
  },
  {
   "cell_type": "markdown",
   "metadata": {},
   "source": [
    "**Deficit profile 2D downstream**"
   ]
  },
  {
   "cell_type": "code",
   "execution_count": null,
   "metadata": {
    "scrolled": true
   },
   "outputs": [],
   "source": [
    "plt.figure(figsize=((10,6)))\n",
    "for turbulenceModel in turbulenceModels:\n",
    "    X, Y, ti = _map(turbulenceModel.calc_added_turbulence, xy=(2*D, np.linspace(-200,200,300)))\n",
    "    plt.plot(Y[:,], ti[:,0], label=turbulenceModel.__class__.__name__)\n",
    "\n",
    "plt.legend()"
   ]
  },
  {
   "cell_type": "markdown",
   "metadata": {},
   "source": [
    "## Ground models"
   ]
  },
  {
   "cell_type": "markdown",
   "metadata": {},
   "source": [
    "### Mirror\n",
    "The Mirror ground model lets the ground mirror the wake deficit. It is implemented by adding wakes from underground mirrored wind turbines"
   ]
  },
  {
   "cell_type": "code",
   "execution_count": null,
   "metadata": {},
   "outputs": [],
   "source": [
    "from py_wake.ground_models import Mirror\n",
    "wfm = NOJ(site, windTurbines, k=.5, groundModel=Mirror())\n",
    "wfm([0], [0], wd=0).flow_map(YZGrid(x=0, y=np.arange(-300, 100, 1) + .1, z=np.arange(-100, 200))).plot_wake_map()\n"
   ]
  }
 ],
 "metadata": {
  "kernelspec": {
   "display_name": "Python 3",
   "language": "python",
   "name": "python3"
  },
  "language_info": {
   "codemirror_mode": {
    "name": "ipython",
    "version": 3
   },
   "file_extension": ".py",
   "mimetype": "text/x-python",
   "name": "python",
   "nbconvert_exporter": "python",
   "pygments_lexer": "ipython3",
   "version": "3.8.8"
  },
  "toc": {
   "base_numbering": 1,
   "nav_menu": {},
   "number_sections": true,
   "sideBar": true,
   "skip_h1_title": false,
   "title_cell": "Table of Contents",
   "title_sidebar": "Contents",
   "toc_cell": false,
   "toc_position": {
    "height": "calc(100% - 180px)",
    "left": "10px",
    "top": "150px",
    "width": "373.333px"
   },
   "toc_section_display": true,
   "toc_window_display": true
  }
 },
 "nbformat": 4,
 "nbformat_minor": 2
}
