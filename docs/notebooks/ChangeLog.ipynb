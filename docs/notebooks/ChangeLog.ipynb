{
    "cells": [
        {
            "cell_type": "markdown",
            "metadata": {},
            "source": [
                "# Change log"
            ]
        },
        {
            "cell_type": "markdown",
            "metadata": {},
            "source": [
                "## PyWake 2.0 (April 15, 2020)\n",
                "\n",
                "- New structure\n",
                "    - Purpose:\n",
                "        - Easier combination of different models for flow propagation, wake and blockage deficit, superposition, wake deflection and turbulence\n",
                "        - More consistent interface to and support for engineering models and PyWake-Rans\n",
                "    - Changes\n",
                "        - `WakeModel` class refactored mainly into the `WindFarmModel`s `EngineeringWindFarmModel` and `PropagateDownwind`\n",
                "        - `WindFarmModel`s, e.g. `NOJ`, `Fuga`, `BastankhahGaussian` returns a `SimulationResult` containing the results as well as an AEP and a flow_map method. See the QuickStart tutorial\n",
                "        - and many more\n",
                "    - Backward compatibility\n",
                "        - AEP Calculator works as before, but is now deprecated\n",
                "        - Lower level interfaces and implementations has changed\n",
                "- New documentation matching the new structure\n",
                "- Optional blockage deficit models and implementation of the SelfSimilarity model\n",
                "- Optional wake deflection models and implementation of a model by Jimenez"
            ]
        }
    ],
    "metadata": {
        "kernelspec": {
            "display_name": "Python 3",
            "language": "python",
            "name": "python3"
        },
        "language_info": {
            "codemirror_mode": {
                "name": "ipython",
                "version": 3
            },
            "file_extension": ".py",
            "mimetype": "text/x-python",
            "name": "python",
            "nbconvert_exporter": "python",
            "pygments_lexer": "ipython3",
            "version": "3.6.7"
        }
    },
    "nbformat": 4,
    "nbformat_minor": 2
}