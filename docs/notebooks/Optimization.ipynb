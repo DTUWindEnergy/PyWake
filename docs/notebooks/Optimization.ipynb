{
 "cells": [
  {
   "cell_type": "markdown",
   "id": "665cadf4",
   "metadata": {},
   "source": [
    "# Optimization with TOPFARM\n",
    "\n",
    "This section describes two optimization examples: a layout optimization with AEP and power production optimization with a de-ratable wind turbine."
   ]
  },
  {
   "cell_type": "markdown",
   "id": "9bb580db",
   "metadata": {},
   "source": [
    "**Install PyWake if needed**"
   ]
  },
  {
   "cell_type": "code",
   "execution_count": null,
   "id": "d977451d",
   "metadata": {},
   "outputs": [],
   "source": [
    "# Install PyWake if needed\n",
    "try:\n",
    "    import py_wake\n",
    "except ModuleNotFoundError:\n",
    "    !pip install git+https://gitlab.windenergy.dtu.dk/TOPFARM/PyWake.git"
   ]
  },
  {
   "cell_type": "markdown",
   "id": "6356d30e",
   "metadata": {},
   "source": [
    "In the following sections the examples are optimized using [TOPFARM](https://topfarm.pages.windenergy.dtu.dk/TopFarm2/), an open source Python package developed by DTU Wind Energy to help with wind-farm optimizations. It has a lot of nice built-in features and wrappers."
   ]
  },
  {
   "cell_type": "markdown",
   "id": "931b849e",
   "metadata": {},
   "source": [
    "**Install TOPFARM if needed**"
   ]
  },
  {
   "cell_type": "code",
   "execution_count": null,
   "id": "3becb8e9",
   "metadata": {},
   "outputs": [],
   "source": [
    "# Install TopFarm if needed\n",
    "try:\n",
    "    import topfarm\n",
    "except ImportError:\n",
    "    !pip install topfarm --user"
   ]
  },
  {
   "cell_type": "markdown",
   "id": "77dd7188",
   "metadata": {},
   "source": [
    "### Example 1 - Optimize AEP wrt. wind turbine position (x,y)\n",
    "\n",
    "In this example we optimize the AEP of the IEAWind Task 37 Case Study 1.\n",
    "\n",
    "As TOPFARM already contains a cost model component, `PyWakeAEPCostModelComponent`, for this kind of problem, setting up the problem is really simple."
   ]
  },
  {
   "cell_type": "code",
   "execution_count": null,
   "id": "f887151a",
   "metadata": {},
   "outputs": [],
   "source": [
    "import numpy as np\n",
    "import matplotlib.pyplot as plt\n",
    "import multiprocessing\n",
    "\n",
    "#setting up pywake models\n",
    "from py_wake.deficit_models.gaussian import IEA37SimpleBastankhahGaussian, BastankhahGaussian\n",
    "from py_wake.examples.data.iea37._iea37 import IEA37Site, IEA37WindTurbines\n",
    "from py_wake.examples.data.hornsrev1 import Hornsrev1Site, V80\n",
    "from py_wake.utils.gradients import autograd, fd, cs\n",
    "from py_wake.utils.plotting import setup_plot\n",
    "\n",
    "#setting up topfarm models\n",
    "from topfarm._topfarm import TopFarmProblem\n",
    "from topfarm.cost_models.py_wake_wrapper import PyWakeAEPCostModelComponent\n",
    "from topfarm.constraint_components.boundary import CircleBoundaryConstraint, XYBoundaryConstraint\n",
    "from topfarm.constraint_components.spacing import SpacingConstraint\n",
    "from topfarm.easy_drivers import EasyScipyOptimizeDriver\n",
    "\n",
    "#wind farm model for the IEA 37 site\n",
    "def IEA37_wfm(n_wt, n_wd):\n",
    "    site = IEA37Site(n_wt)\n",
    "    site.default_wd = np.linspace(0,360,n_wd, endpoint=False)\n",
    "    wt = IEA37WindTurbines()\n",
    "    return IEA37SimpleBastankhahGaussian(site, wt)\n",
    "\n",
    "#wind farm model for the Hornsrev1 site\n",
    "Hornsrev1_wfm = BastankhahGaussian(Hornsrev1Site(), V80())\n",
    "\n",
    "#function to create a topfarm problem, following the elements of OpenMDAO architecture\n",
    "def get_topfarmProblem_xy(wfm, grad_method, maxiter, n_cpu):\n",
    "    x, y = wfm.site.initial_position.T\n",
    "    boundary_constr = [XYBoundaryConstraint(np.array([x, y]).T),\n",
    "                       CircleBoundaryConstraint(center=[0, 0], radius=np.round(np.hypot(x, y).max()))][int(isinstance(wfm.site, IEA37Site))]\n",
    "    \n",
    "    return TopFarmProblem(design_vars={'x': x, 'y': y},\n",
    "                          cost_comp=PyWakeAEPCostModelComponent(windFarmModel=wfm, n_wt=len(x),\n",
    "                                                                grad_method=grad_method, n_cpu=n_cpu,\n",
    "                                                                wd=wfm.site.default_wd, ws=wfm.site.default_ws),\n",
    "                          driver=EasyScipyOptimizeDriver(maxiter=maxiter),\n",
    "                          constraints=[boundary_constr,\n",
    "                                       SpacingConstraint(min_spacing=2 * wfm.windTurbines.diameter())])"
   ]
  },
  {
   "cell_type": "code",
   "execution_count": null,
   "id": "996520c2",
   "metadata": {},
   "outputs": [],
   "source": [
    "#we create a function to optimize the problem and plot the results in terms of AEP and simulation time\n",
    "def optimize_and_plot(wfm, maxiter, skip_fd=False):\n",
    "    for method, n_cpu in [(fd,1), (autograd,1), (autograd, multiprocessing.cpu_count())][int(skip_fd):]:\n",
    "        tf = get_topfarmProblem_xy(wfm,method,maxiter,n_cpu)\n",
    "        cost, state, recorder = tf.optimize(disp=True)\n",
    "        t,aep = [recorder[v] for v in ['timestamp','AEP']]\n",
    "        plt.plot(t-t[0],aep, label=f'{method.__name__}, {n_cpu}CPU(s)')\n",
    "    n_wt, n_wd, n_ws = len(wfm.site.initial_position), len(wfm.site.default_wd), len(wfm.site.default_ws)\n",
    "    \n",
    "    setup_plot(ylabel='AEP [GWh]', xlabel='Time [s]',title = f'{n_wt} wind turbines, {n_wd} wind directions, {n_ws} wind speeds')\n",
    "    plt.ticklabel_format(useOffset=False)"
   ]
  },
  {
   "cell_type": "markdown",
   "id": "7f9aea18",
   "metadata": {},
   "source": [
    "    optimize_and_plot(IEA37_wfm(16, n_wd=16), maxiter=3)"
   ]
  },
  {
   "cell_type": "markdown",
   "id": "364292cc",
   "metadata": {},
   "source": [
    "**Pre-computed result of the AEP during 100 iterations of optimization of the IEA task 37 case study 1 (16 wind turbines, 12 wind directions and one wind speed) plotted as a function of time.**\n",
    "\n",
    "Autograd is seen to be faster than finite difference and for this relatively small problem, 1 CPU is faster than 32CPUs. "
   ]
  },
  {
   "cell_type": "markdown",
   "id": "b1eca1a3",
   "metadata": {},
   "source": [
    "![image3.png](images/Optimization_aep_iea37.png)"
   ]
  },
  {
   "cell_type": "markdown",
   "id": "5a2283ba",
   "metadata": {},
   "source": [
    "    optimize_and_plot(Hornsrev1_wfm, 100, skip_fd=True)"
   ]
  },
  {
   "cell_type": "markdown",
   "id": "d7b22a19",
   "metadata": {},
   "source": [
    "**Precomputed result of the AEP during 100 iterations of optimization of the Hornsrev 1 wind farm (80 wind turbines, 360 wind directions and 23 wind speed) plotted as a function of time.**\n",
    "\n",
    "In this case the optimization with 32 CPUs is around 6 times faster than the optimization with 1 CPU. \n",
    "![image4.png](images/Optimization_aep_hornsrev1.png)"
   ]
  },
  {
   "cell_type": "markdown",
   "id": "2e11e0ed",
   "metadata": {},
   "source": [
    "### Example 2 - Optimize WS, TI, Power and custom functions\n",
    "\n",
    "To optimize some output, `y`, with respect to some input, `x`, you simply need to setup a function, `y = f(x)`.\n",
    "\n",
    "In the examle below, we will use a wind turbine that can be de-rated."
   ]
  },
  {
   "cell_type": "markdown",
   "id": "356c79dc",
   "metadata": {},
   "source": [
    "#### De-ratable wind turbine\n",
    "\n",
    "The relation between power and CT of the de-ratable wind turbine is obtained from 1D momentum theory."
   ]
  },
  {
   "cell_type": "code",
   "execution_count": null,
   "id": "70e7c54a",
   "metadata": {},
   "outputs": [],
   "source": [
    "import autograd.numpy as np\n",
    "import matplotlib.pyplot as plt\n",
    "\n",
    "from py_wake.wind_turbines._wind_turbines import WindTurbine\n",
    "from py_wake.wind_turbines.power_ct_functions import PowerCtFunction\n",
    "from py_wake.utils.model_utils import fix_shape\n",
    "\n",
    "def power_ct(ws, derating, run_only):\n",
    "    derating = fix_shape(derating, ws)\n",
    "    cp = 16 / 27 * (1 - derating)\n",
    "    power = np.maximum(0, 1 / 2 * 1.225 * 50**2 * np.pi * cp * ws ** 3)\n",
    "\n",
    "    # solve cp = 4 * a * (1 - a)**2 for a\n",
    "    y = 27.0 / 16.0 * cp\n",
    "    a = 2.0 / 3.0 * (1 - np.cos(np.arctan2(2 * np.sqrt(y * (1.0 - y)), 1 - 2 * y) / 3.0))\n",
    "    ct = 4 * a * (1 - a)\n",
    "    return [power, ct][run_only]\n",
    "\n",
    "powerCtFunction = PowerCtFunction(input_keys=['ws', 'derating'], power_ct_func=power_ct, power_unit='w')\n",
    "wt = WindTurbine(name=\"MyWT\", diameter=100, hub_height=100, powerCtFunction=powerCtFunction)"
   ]
  },
  {
   "cell_type": "markdown",
   "id": "653410bb",
   "metadata": {},
   "source": [
    "The power and CT curves as a function wind speed is plotted below for 0, 5 and 10% derating."
   ]
  },
  {
   "cell_type": "code",
   "execution_count": null,
   "id": "9d1e90f4",
   "metadata": {},
   "outputs": [],
   "source": [
    "ax1 = plt.gca()\n",
    "ax2 = plt.twinx(ax1)\n",
    "ws = np.linspace(3, 20)\n",
    "for derating in [0, .05, .1]:\n",
    "    ct = wt.ct(ws, derating=derating)\n",
    "    ax1.plot(ws, wt.power(ws, derating=derating) / 1e6, label='%d%% derating, ct=%.2f' % (derating * 100, ct[0]))\n",
    "    ax2.plot(ws, ct,'--')\n",
    "\n",
    "ax1.legend(loc='lower right')\n",
    "ax1.set_xlabel('Wind speed [m/s]')\n",
    "ax1.set_ylabel('Power [MW]')\n",
    "ax2.set_ylabel('Ct')\n",
    "ax2.set_ylim([0, 1])"
   ]
  },
  {
   "cell_type": "markdown",
   "id": "4efc7a71",
   "metadata": {},
   "source": [
    "#### Maximize mean power by optimizing de-rating factor and hub height\n",
    "\n",
    "In this example we will maximize the mean power by optimizing the individual wind turbine hub height and derating factors.\n",
    "\n",
    "First we setup the `WindFarmModel` and the function to maximize, `mean_power`, which takes the hub height and derating factors as input:"
   ]
  },
  {
   "cell_type": "code",
   "execution_count": null,
   "id": "2e077818",
   "metadata": {},
   "outputs": [],
   "source": [
    "from py_wake.deficit_models.gaussian import IEA37SimpleBastankhahGaussian\n",
    "from py_wake.site import UniformSite\n",
    "from py_wake.utils.gradients import autograd\n",
    "\n",
    "from topfarm._topfarm import TopFarmProblem\n",
    "from topfarm.cost_models.cost_model_wrappers import CostModelComponent\n",
    "from topfarm.easy_drivers import EasyScipyOptimizeDriver\n",
    "\n",
    "n_wt = 5\n",
    "wfm = IEA37SimpleBastankhahGaussian(site=UniformSite(p_wd=[1],ti=.1), windTurbines=wt)\n",
    "wt_x = np.arange(n_wt) * 4 * wt.diameter()\n",
    "wt_y = np.zeros_like(wt_x)\n",
    "\n",
    "def mean_power(zhub, derating):\n",
    "    power_ilk = wfm.calc_wt_interaction(x_i=wt_x, y_i=wt_y, h_i=zhub, wd=[270], ws=[10], derating=derating)[2] \n",
    "    return np.mean(power_ilk)"
   ]
  },
  {
   "cell_type": "markdown",
   "id": "a0bb6b9b",
   "metadata": {},
   "source": [
    "Setup the gradient function with respect to both arguments. \n",
    "\n",
    "Again the PyWake autograd method will, under the hood, calculate the gradients with respect to both inputs in one go."
   ]
  },
  {
   "cell_type": "code",
   "execution_count": null,
   "id": "2dfa10ec",
   "metadata": {},
   "outputs": [],
   "source": [
    "dmean_power_dzhub_derating = autograd(mean_power,argnum=[0,1])"
   ]
  },
  {
   "cell_type": "markdown",
   "id": "5ae2f226",
   "metadata": {},
   "source": [
    "Initialize zhub and derating. The values are choosen to avoid zero gradients (e.g. if all wt has same hub height)"
   ]
  },
  {
   "cell_type": "code",
   "execution_count": null,
   "id": "a16e778a",
   "metadata": {},
   "outputs": [],
   "source": [
    "zhub = np.arange(n_wt)+100 # 100,101,102,...\n",
    "derating=[0.1]*n_wt"
   ]
  },
  {
   "cell_type": "code",
   "execution_count": null,
   "id": "787b22f3",
   "metadata": {},
   "outputs": [],
   "source": [
    "print ('Mean power: %f MW'%(mean_power(zhub,derating)/1e6))\n",
    "print ('Gradients:',dmean_power_dzhub_derating(zhub,derating))"
   ]
  },
  {
   "cell_type": "markdown",
   "id": "b3ecdfb4",
   "metadata": {},
   "source": [
    "Next step is to setup the `CostModelComponent` and `TopFarmProblem`"
   ]
  },
  {
   "cell_type": "code",
   "execution_count": null,
   "id": "9635b8b2",
   "metadata": {},
   "outputs": [],
   "source": [
    "cost_comp=CostModelComponent(input_keys=['zhub', 'derating'],\n",
    "                              n_wt=n_wt,\n",
    "                              cost_function=mean_power,\n",
    "                              cost_gradient_function=dmean_power_dzhub_derating,\n",
    "                              maximize=True # because we want to maximize the mean power\n",
    "                             )\n",
    "\n",
    "tf = TopFarmProblem(design_vars={\n",
    "                        # (initial_values, lower limit, upper limit)\n",
    "                        'zhub': ([100]*n_wt, 80, 130),\n",
    "                        'derating': ([0] * n_wt, 0, .9)},  \n",
    "                    n_wt=n_wt,\n",
    "                    cost_comp=cost_comp,\n",
    "                    expected_cost=1000, # expected cost impacts the size of the moves performed by the optimizer\n",
    "                    )"
   ]
  },
  {
   "cell_type": "markdown",
   "id": "6449e344",
   "metadata": {},
   "source": [
    "As seen above the gradient of the mean power wrt. hub height is zero when all wind turbines have the same height. This means that the optimizer \"thinks\" that the solution cannot be improved. We therefore need to initialize the optimization with slightly different hub heights.\n",
    "\n",
    "Furthermore, the derating must be above zero to avoid inequality constraint failure."
   ]
  },
  {
   "cell_type": "code",
   "execution_count": null,
   "id": "8bd93efd",
   "metadata": {},
   "outputs": [],
   "source": [
    "#perform the optimization\n",
    "cost, state, recorder = tf.optimize(state={'zhub':np.arange(n_wt)+100,   # 100,101,102,...\n",
    "                                           'derating':[0.1]*n_wt         # 10% initial derating\n",
    "                                          })\n",
    "print ()\n",
    "print ('Optimized mean power %f MW'% (cost/1e6))\n",
    "print ('Optimized state', state)"
   ]
  },
  {
   "cell_type": "markdown",
   "id": "ad3ac4af",
   "metadata": {},
   "source": [
    "**Plotting the results**"
   ]
  },
  {
   "cell_type": "code",
   "execution_count": null,
   "id": "0cebbbc9",
   "metadata": {},
   "outputs": [],
   "source": [
    "from py_wake import XZGrid\n",
    "derating = state['derating']\n",
    "h = state['zhub']\n",
    "\n",
    "sim_res_ref = wfm(wt_x, wt_y, wd=[270], ws=[10], derating=[0] * n_wt)\n",
    "sim_res_opt = wfm(wt_x, wt_y, h=h, wd=[270], ws=[10], derating=derating)\n",
    "plt.figure(figsize=(12,4))\n",
    "sim_res_opt.flow_map(XZGrid(y=0)).plot_wake_map()\n",
    "for x_, d in zip(wt_x, derating):\n",
    "    plt.text(x_ + 50, -80, \"%d%%\" % np.round(d * 100), fontsize=10)\n",
    "plt.ylabel('Height [m]')\n",
    "plt.xlabel('x [m]')\n",
    "\n",
    "plt.figure()\n",
    "for i, (sim_res, l) in enumerate([(sim_res_ref, 'Baseline'), (sim_res_opt, 'Optimized')]):\n",
    "    plt.bar(np.arange(n_wt) + i * .4, sim_res.Power.squeeze() * 1e-6, width=.4,\n",
    "            label='%s, mean power= %.2fMW' % (l, sim_res.Power.mean() * 1e-6))\n",
    "plt.ylabel('Power [MW]')\n",
    "plt.xlabel('Wind turbine')\n",
    "plt.legend()\n",
    "plt.show()"
   ]
  }
 ],
 "metadata": {
  "kernelspec": {
   "display_name": "Python 3 (ipykernel)",
   "language": "python",
   "name": "python3"
  },
  "language_info": {
   "codemirror_mode": {
    "name": "ipython",
    "version": 3
   },
   "file_extension": ".py",
   "mimetype": "text/x-python",
   "name": "python",
   "nbconvert_exporter": "python",
   "pygments_lexer": "ipython3",
   "version": "3.9.13"
  },
  "toc": {
   "base_numbering": 1,
   "nav_menu": {},
   "number_sections": true,
   "sideBar": true,
   "skip_h1_title": false,
   "title_cell": "Table of Contents",
   "title_sidebar": "Contents",
   "toc_cell": false,
   "toc_position": {
    "height": "calc(100% - 180px)",
    "left": "10px",
    "top": "150px",
    "width": "426.667px"
   },
   "toc_section_display": true,
   "toc_window_display": true
  }
 },
 "nbformat": 4,
 "nbformat_minor": 5
}
