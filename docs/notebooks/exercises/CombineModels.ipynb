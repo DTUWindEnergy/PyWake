{
    "cells": [
        {
            "cell_type": "markdown",
            "metadata": {},
            "source": [
                "# Exercise: Combine Models\n",
                "\n",
                "In this exercise you can combine the difference models of py_wake and see the effects in terms of AEP and a flow map"
            ]
        },
        {
            "cell_type": "code",
            "execution_count": 1,
            "metadata": {},
            "outputs": [],
            "source": [
                "# Install PyWake if needed\n",
                "try:\n",
                "    import py_wake\n",
                "except ModuleNotFoundError:\n",
                "    !pip install git+https://gitlab.windenergy.dtu.dk/TOPFARM/PyWake.git"
            ]
        },
        {
            "cell_type": "code",
            "execution_count": 31,
            "metadata": {},
            "outputs": [],
            "source": [
                "# Importing all required modules\n",
                "import time\n",
                "import inspect\n",
                "from ipywidgets import interact\n",
                "from py_wake.examples.data.iea37._iea37 import IEA37Site, IEA37_WindTurbines\n",
                "from py_wake.wind_farm_models.engineering_models import PropagateDownwind, All2AllIterative\n",
                "from py_wake import deficit_models\n",
                "from py_wake.deficit_models import DeficitModel\n",
                "from py_wake.deficit_models import NOJDeficit, GCLDeficit\n",
                "from py_wake.deficit_models.fuga import FugaDeficit\n",
                "from py_wake.deficit_models.selfsimilarity import SelfSimilarityDeficit\n",
                "from py_wake.rotor_avg_models.rotor_avg_model import RotorCenter,CGIRotorAvg, EqGridRotorAvg\n",
                "from py_wake import superposition_models\n",
                "from py_wake.superposition_models import SuperpositionModel\n",
                "from py_wake import turbulence_models\n",
                "from py_wake.turbulence_models.turbulence_model import TurbulenceModel\n",
                "from py_wake.examples.data.iea37._iea37 import IEA37Site, IEA37_WindTurbines\n",
                "import matplotlib.pyplot as plt\n",
                "from IPython.display import clear_output"
            ]
        },
        {
            "cell_type": "code",
            "execution_count": 32,
            "metadata": {},
            "outputs": [
                {
                    "data": {
                        "text/html": [
                            "<style>\n",
                            "    .widget-label { min-width: 20ex !important; }\n",
                            "</style>"
                        ],
                        "text/plain": [
                            "<IPython.core.display.HTML object>"
                        ]
                    },
                    "metadata": {},
                    "output_type": "display_data"
                }
            ],
            "source": [
                "# Fix ipywidget label width\n",
                "from IPython.display import HTML, display\n",
                "\n",
                "display(HTML('''<style>\n",
                "    .widget-label { min-width: 20ex !important; }\n",
                "</style>'''))"
            ]
        },
        {
            "cell_type": "code",
            "execution_count": 34,
            "metadata": {},
            "outputs": [],
            "source": [
                "# Setup site, wind turbines\n",
                "site = IEA37Site(16)\n",
                "wt = IEA37_WindTurbines()\n",
                "x,y = site.initial_position.T"
            ]
        },
        {
            "cell_type": "code",
            "execution_count": 35,
            "metadata": {},
            "outputs": [],
            "source": [
                "# setup some utility functions\n",
                "\n",
                "def get_models(module, baseclass, ignore=set()):\n",
                "    ignore.add(baseclass)\n",
                "    return [(v.__name__, v) for v in module.__dict__.values() if inspect.isclass(v) and issubclass(v, baseclass) and v not in ignore]\n",
                "\n",
                "def run(WindFarmModel, WakeDeficitModel, RotorAvgModel, SuperpositionModel, BlockageDeficitModel, TurbulenceModel):\n",
                "    if inspect.isclass(WakeDeficitModel):\n",
                "        WakeDeficitModel = WakeDeficitModel()\n",
                "    kwargs = {}\n",
                "    print('Calculating, please wait!')\n",
                "    clear_output(wait=True)\n",
                "    if WindFarmModel==All2AllIterative:\n",
                "        kwargs['blockage_deficitModel'] = BlockageDeficitModel\n",
                "    t = time.time()\n",
                "    try:\n",
                "    \n",
                "        wfm = WindFarmModel(site, wt, wake_deficitModel=WakeDeficitModel, rotorAvgModel=RotorAvgModel, superpositionModel=SuperpositionModel(), \n",
                "                        turbulenceModel=TurbulenceModel(),**kwargs)\n",
                "        sim_res = wfm(x,y)\n",
                "    except Exception as e:\n",
                "        print (\"Bad combination: \", str(e))\n",
                "        return\n",
                "    plt.figure(figsize=(12,8))\n",
                "    sim_res.flow_map(wd=270).WS_eff.plot()\n",
                "    print (wfm)\n",
                "    print (\"Computation time (AEP + flowmap):\", time.time()-t)\n",
                "    plt.title('AEP: %.2fGWh'%(sim_res.aep().sum()))\n",
                "    wt.plot(x,y,wd=270)"
            ]
        },
        {
            "cell_type": "code",
            "execution_count": 36,
            "metadata": {},
            "outputs": [],
            "source": [
                "# setup available models\n",
                "models = {\n",
                "    'WindFarmModel':[('PropagateDownwind', PropagateDownwind),\n",
                "                        ('All2AllIterative', All2AllIterative)],\n",
                "    'WakeDeficitModel':get_models(deficit_models, DeficitModel, {SelfSimilarityDeficit}) + [\n",
                "                          ('NOJDeficit_ws_eff',NOJDeficit(use_effective_ws=True)), \n",
                "                          ('GCLDeficit_ws_eff',GCLDeficit(use_effective_ws=True)),\n",
                "                          ],\n",
                "    'RotorAvgModel':[('RotorCenter', RotorCenter()),\n",
                "                       ('CGIRotorAvg_4', CGIRotorAvg(4)),\n",
                "                       ('EqGridRotorAvg_4x4', EqGridRotorAvg(4)),\n",
                "                       ('EqGridRotorAvg_100x100', EqGridRotorAvg(100))\n",
                "                      ],\n",
                "    'SuperpositionModel':get_models(superposition_models, SuperpositionModel),\n",
                "    'BlockageDeficitModel':[('None',None),\n",
                "                              ('SelfSimilarityDeficit',SelfSimilarityDeficit()),\n",
                "                              ('FugaDeficit', FugaDeficit())],\n",
                "    'TurbulenceModel':get_models(turbulence_models, TurbulenceModel)\n",
                "         }"
            ]
        },
        {
            "cell_type": "code",
            "execution_count": 37,
            "metadata": {},
            "outputs": [
                {
                    "data": {
                        "application/vnd.jupyter.widget-view+json": {
                            "model_id": "fb7186422e014f34b0aa144c73db7b36",
                            "version_major": 2,
                            "version_minor": 0
                        },
                        "text/plain": [
                            "interactive(children=(Dropdown(description='WindFarmModel', options=(('PropagateDownwind', <class 'py_wake.win\u2026"
                        ]
                    },
                    "metadata": {},
                    "output_type": "display_data"
                }
            ],
            "source": [
                "_ = interact(run, **models)"
            ]
        },
        {
            "cell_type": "markdown",
            "metadata": {},
            "source": [
                "Note, the only the All2AllIterative WindFarmModel supports blockage"
            ]
        }
    ],
    "metadata": {
        "kernelspec": {
            "display_name": "Python 3",
            "language": "python",
            "name": "python3"
        },
        "language_info": {
            "codemirror_mode": {
                "name": "ipython",
                "version": 3
            },
            "file_extension": ".py",
            "mimetype": "text/x-python",
            "name": "python",
            "nbconvert_exporter": "python",
            "pygments_lexer": "ipython3",
            "version": "3.8.2"
        },
        "toc": {
            "base_numbering": 1,
            "nav_menu": {},
            "number_sections": true,
            "sideBar": true,
            "skip_h1_title": false,
            "title_cell": "Table of Contents",
            "title_sidebar": "Contents",
            "toc_cell": false,
            "toc_position": {},
            "toc_section_display": true,
            "toc_window_display": true
        }
    },
    "nbformat": 4,
    "nbformat_minor": 4
}