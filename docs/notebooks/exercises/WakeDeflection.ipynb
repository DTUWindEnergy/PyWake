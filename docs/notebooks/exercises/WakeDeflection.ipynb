{
 "cells": [
  {
   "cell_type": "markdown",
   "metadata": {},
   "source": [
    "# Exercise: Wake Deflection\n",
    "\n",
    "In this exercise you can investigate the wake-deflection effects of yaw-misalignment."
   ]
  },
  {
   "cell_type": "markdown",
   "metadata": {},
   "source": [
    "**Install PyWake if needed**"
   ]
  },
  {
   "cell_type": "code",
   "execution_count": null,
   "metadata": {},
   "outputs": [],
   "source": [
    "# Install PyWake if needed\n",
    "try:\n",
    "    import py_wake\n",
    "except ModuleNotFoundError:\n",
    "    !pip install git+https://gitlab.windenergy.dtu.dk/TOPFARM/PyWake.git"
   ]
  },
  {
   "cell_type": "markdown",
   "metadata": {},
   "source": [
    "**Import Python elements and PyWake objects**"
   ]
  },
  {
   "cell_type": "code",
   "execution_count": 1,
   "metadata": {},
   "outputs": [],
   "source": [
    "# setup site, wind turbines and wind farm model with the corresponding wake models\n",
    "import numpy as np\n",
    "from ipywidgets import interact\n",
    "from ipywidgets import IntSlider\n",
    "import matplotlib.pyplot as plt\n",
    "\n",
    "from py_wake.flow_map import HorizontalGrid\n",
    "from py_wake.examples.data.iea37._iea37 import IEA37Site, IEA37_WindTurbines\n",
    "from py_wake.deficit_models.gaussian import BastankhahGaussian\n",
    "from py_wake.deflection_models.jimenez import JimenezWakeDeflection"
   ]
  },
  {
   "cell_type": "markdown",
   "metadata": {},
   "source": [
    "**Specify site to use, as well as wind turbines to set up the wind farm model**"
   ]
  },
  {
   "cell_type": "code",
   "execution_count": 2,
   "metadata": {},
   "outputs": [],
   "source": [
    "site = IEA37Site(16)\n",
    "x, y = [0, 600, 1200], [0, 0, 0] \n",
    "windTurbines = IEA37_WindTurbines()\n",
    "wfm = BastankhahGaussian(site, windTurbines, deflectionModel=JimenezWakeDeflection())"
   ]
  },
  {
   "cell_type": "code",
   "execution_count": 3,
   "metadata": {},
   "outputs": [],
   "source": [
    "# define function that plots the flow field and AEP history of 3 wind turbines\n",
    "def plot_flow_field_and_aep(WT0, WT1):\n",
    "    \n",
    "    ax1 = plt.figure(figsize=(20,4)).gca()\n",
    "    ax2 = plt.figure(figsize=(10,3)).gca()\n",
    "    \n",
    "    sim_res = wfm(x, y, yaw=np.reshape([WT0,WT1,0],(3,1,1)), wd=270, ws=10)\n",
    "    sim_res.flow_map(HorizontalGrid(x = np.linspace(0,1400,200), y=np.linspace(-200,200,50))).plot_wake_map(ax=ax1)\n",
    "    ax1.set_xlim([-200,1400])\n",
    "    aep.append(sim_res.aep().values[:,0,0])\n",
    "    aep_arr = np.array(aep)                                     \n",
    "    for i in range(3):\n",
    "        ax2.plot(aep_arr[:,i], '.-', label='WT%d, %.2f'%(i,aep_arr[-1,i]))\n",
    "    ax2.plot(aep_arr.sum(1), '.-', label='Total, %.2f'%aep_arr[-1].sum())\n",
    "    ax2.axhline(aep_arr[0].sum(),ls='--',c='r')\n",
    "    ax2.set_ylabel('AEP [GWh]')\n",
    "    ax2.set_xlabel('Iteration')\n",
    "    ax2.legend(loc='upper left')"
   ]
  },
  {
   "cell_type": "markdown",
   "metadata": {},
   "source": [
    "**Move the sliders above and try to find the optimal yaw-misalignment of WT0 and WT1 with respect to total AEP**"
   ]
  },
  {
   "cell_type": "code",
   "execution_count": 4,
   "metadata": {},
   "outputs": [
    {
     "data": {
      "application/vnd.jupyter.widget-view+json": {
       "model_id": "a7be42f8b98e42be9f275afd560896ec",
       "version_major": 2,
       "version_minor": 0
      },
      "text/plain": [
       "interactive(children=(IntSlider(value=0, continuous_update=False, description='WT0', max=50, min=-50), IntSlid…"
      ]
     },
     "metadata": {},
     "output_type": "display_data"
    }
   ],
   "source": [
    "# Run the plot_flow_field_and_aep function when moving the sliders\n",
    "aep = []\n",
    "_ = interact(plot_flow_field_and_aep, \n",
    "             WT0=IntSlider(min=-50, max=50, step=1, value=0, continuous_update=False),\n",
    "             WT1=IntSlider(min=-50, max=50, step=1, value=0, continuous_update=False))"
   ]
  }
 ],
 "metadata": {
  "kernelspec": {
   "display_name": "Python 3 (ipykernel)",
   "language": "python",
   "name": "python3"
  },
  "language_info": {
   "codemirror_mode": {
    "name": "ipython",
    "version": 3
   },
   "file_extension": ".py",
   "mimetype": "text/x-python",
   "name": "python",
   "nbconvert_exporter": "python",
   "pygments_lexer": "ipython3",
   "version": "3.9.13"
  },
  "toc": {
   "base_numbering": 1,
   "nav_menu": {},
   "number_sections": true,
   "sideBar": true,
   "skip_h1_title": false,
   "title_cell": "Table of Contents",
   "title_sidebar": "Contents",
   "toc_cell": false,
   "toc_position": {},
   "toc_section_display": true,
   "toc_window_display": true
  }
 },
 "nbformat": 4,
 "nbformat_minor": 4
}
