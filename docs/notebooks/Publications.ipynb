{
 "cells": [
  {
   "cell_type": "markdown",
   "metadata": {},
   "source": [
    "# Publications"
   ]
  },
  {
   "cell_type": "markdown",
   "metadata": {},
   "source": [
    "If you want to cite PyWake, please use this citation:\n",
    "\n",
    "\n",
    "\n",
    "**Version 1.10.0**\n",
    "\n",
    "```\n",
    "Mads M. Pedersen, Paul van der Laan, Mikkel Friis-Møller, Jennifer Rinker and Pierre-Elouan Réthoré. (2019, February 12). DTUWindEnergy/PyWake: PyWake (Version v1.0.10). Zenodo. http://doi.org/10.5281/zenodo.2562662\n",
    "```\n",
    "\n",
    "```\n",
    "@article{\n",
    "    pywake1.10.0_2019,<br/> \n",
    "    title={DTUWindEnergy/PyWake: PyWake}, \n",
    "    DOI={10.5281/zenodo.2562662}, \n",
    "    publisher={Zenodo}, \n",
    "    author={Mads M. Pedersen and Paul van der Laan and Mikkel Friis-Møller and Jennifer Rinker and \n",
    "            Pierre-Elouan Réthoré},\n",
    "    year={2019}, \n",
    "    month={Feb}\n",
    "}\n",
    "```\n",
    "\n",
    "\n",
    "\n"
   ]
  },
  {
   "cell_type": "markdown",
   "metadata": {},
   "source": [
    "## Conference papers\n",
    "\n",
    "- Riva, R., Liew, J., Friis-Møller, M., Dimitrov, N., Barlas, E., Réthoré, P-E., Beržonskis, A. (2020).\n",
    "Wind farm layout optimization with load constraints using surrogate modelling. In Proceedings of the TORQUE Conference 2020 (Vol. 1618). IOP Publishing. Journal of Physics: Conference Series (Online)\n",
    "https://doi.org/10.1088/1742-6596/1618/4/042035\n",
    "\n",
    "- Krabben, I. G. W., van der Laan, M. P., Koivisto, M. J., Larsen, T. J., Pedersen, M. M., & Hansen, K. S. (2019).\n",
    "Why curved wind turbine rows are better than straight ones. In Proceedings of the Wake Conference 2019 (1\n",
    "ed., Vol. 1256). [012028] IOP Publishing. Journal of Physics: Conference Series (Online)\n",
    "https://doi.org/10.1088/1742-6596/1256/1/012028\n",
    "\n",
    "- Vitulli, J. A., Larsen, G. C., Pedersen, M. M., Ott, S., & Friis-Møller, M. (2019). Optimal open loop wind farm\n",
    "control. In Proceedings of the Wake Conference 2019 (1 ed., Vol. 1256). [012027] Journal of Physics:\n",
    "Conference Series, No. Conf. 1, Vol.. 1256 https://doi.org/10.1088/1742-6596/1256/1/012027\n",
    "\n",
    "- M.P. van der Laan et al. (2019) Brief communication: Wind speed independent actuator disk control for faster AEP calculations of wind farms using CFD. WES. DOI: 10.5194/wes-2019-27"
   ]
  },
  {
   "cell_type": "markdown",
   "metadata": {},
   "source": [
    "## Master thesis\n",
    "- Patrick Arthur Redmond Duffy (2019). Effect of wind speed gradients on AEP in a wind farm\n",
    "cluster https://repository.tudelft.nl/islandora/object/uuid:e0e318de-79e0-481c-82d3-4153e6cd9998/datastream/OBJ/download"
   ]
  },
  {
   "cell_type": "markdown",
   "metadata": {},
   "source": [
    "### Presentations\n",
    "\n",
    "- Arconada, J. O. (Author), Réthoré, P-E. (Author), Hasager, C. B. (Author), Bech, J. I. (Author), Friis-Møller, M.\n",
    "(Author), Pedersen, M. M. (Author), ... Skrzypinski, W. R. (Author). (2019). Blade erosion in wind farm layout\n",
    "and/or control optimization. Sound/Visual production (digital)\n",
    "\n",
    "- Mads Mølgaard Pedersen, & Gunner Chr. Larsen. (2019, August). 2.5a_Pedersen: The influence of wind farm control on optimal wind farm layout. Zenodo. http://doi.org/10.5281/zenodo.3365801"
   ]
  },
  {
   "cell_type": "markdown",
   "metadata": {},
   "source": [
    "## Other\n",
    "\n",
    "- van der Laan, P., Andersen, S. J., & Réthoré, P-E. (2019). Brief communication: Wind speed independent\n",
    "actuator disk control for faster AEP calculations of wind farms using CFD. Wind Energy Science Discussions.\n",
    "https://doi.org/10.5194/wes-2019-27"
   ]
  }
 ],
 "metadata": {
  "kernelspec": {
   "display_name": "Python 3",
   "language": "python",
   "name": "python3"
  },
  "language_info": {
   "codemirror_mode": {
    "name": "ipython",
    "version": 3
   },
   "file_extension": ".py",
   "mimetype": "text/x-python",
   "name": "python",
   "nbconvert_exporter": "python",
   "pygments_lexer": "ipython3",
   "version": "3.8.2"
  }
 },
 "nbformat": 4,
 "nbformat_minor": 4
}
