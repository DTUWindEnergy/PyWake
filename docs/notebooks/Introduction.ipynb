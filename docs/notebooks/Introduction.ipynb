{
    "cells": [
        {
            "cell_type": "markdown",
            "metadata": {},
            "source": [
                "# Introduction"
            ]
        },
        {
            "cell_type": "markdown",
            "metadata": {},
            "source": [
                "PyWake is an open source wind farm simulation tool capable of calculating wind farm flow fields, power production and annual energy production (AEP) of wind farms.\n",
                "\n",
                "PyWake provides a unified interface to wind farm models of different fidelities, e.g. different engineering models and CFD-RANS (commercial plugin).\n",
                "\n",
                "PyWake is implemented in Python, but still very fast due to heavy vectorization and use of numerical libraries.\n",
                "\n",
                "\n"
            ]
        },
        {
            "cell_type": "markdown",
            "metadata": {},
            "source": [
                "## Overview\n",
                "![PyWake](../_static/WF_Site_WindTurbines.svg)"
            ]
        },
        {
            "cell_type": "markdown",
            "metadata": {},
            "source": [
                "The `WindFarmModel` is initialized with a `Site` and a `WindTurbines` object.\n",
                "\n",
                "*Site*: For a given position, reference wind speed (WS<sub>ref</sub>) and wind direction (WD<sub>ref</sub>), `Site` provides the local wind condition in terms of wind speed (WS), wind direction (WD), turbulence intensity (TI) and the probability of each combination of wind direction and wind speed. Furthermore, `Site` is responsible for calculating the down-wind, cross-wind and vertical distance between wind turbines (which in non-flat terrain is different from the straight-line distances).\n",
                "\n",
                "*WindTurbines*: For a given wind turbine type and effective wind speed (WS<sub>eff</sub>), the `WindTurbines` object provides the power and thrust coefficient (CT), as well as the wind turbine hub height (H) and diameter (D).\n",
                "\n",
                "*WindFarmModel*: For a given set of wind turbines, defined in terms of their position and type, the `WindFarmModel` returns a `SimulationResult` object containing the calculated the effective wind speed, power production, thrust coefficient as well as methods to calculate the AEP and generate flow maps"
            ]
        },
        {
            "cell_type": "markdown",
            "metadata": {},
            "source": [
                "## Engineering models\n",
                "\n",
                "![Engineering models](../_static/EngineeringModels.svg)"
            ]
        },
        {
            "cell_type": "markdown",
            "metadata": {},
            "source": [
                "The engineering wind farms models in PyWake are composed of one of two wind farms models in combination with a wake deficit model, a superposition model and optionally a blockage deficit and a turbulence model.\n",
                "\n",
                "- `WindFarmModel`: Defines the proceedure that detemines how wake and blockage deficits propagates in the wind farm\n",
                "- Wake `DeficitModel`: Calculate wake deficit from one wind turbine to downstream wind turbines or sites in the wind farm\n",
                "- `SuperpositionModel`: Defines how deficits from multiple sources sums up\n",
                "- Blockage `DeficitModel`: Calculate blockage deficit from one wind turbine to upstream wind turbines or sites in the wind farm\n",
                "- `DeflectionModel`: Defines the wake deflection due to yaw misalignment, sheared inflow etc, but modifying the down- and cross wind distances\n",
                "- `TurbulenceModel`: Calculate added turbulence in the wake from one wind turbine to downstream wind turbines or sites in the wind farm\n",
                "\n",
                "\n",
                "A set of predefined engineering wake models is available in PyWake, see [Predefined Windfarm models](EngineeringWindFarmModels.ipynb#Predefined-WindFarmModels):\n",
                "\n",
                "- NOJ\n",
                "- Fuga\n",
                "- FugaBlockage (wake and blockage)\n",
                "- BastankhahGaussian\n",
                "- IEA37SimpleBastankhahGaussian"
            ]
        },
        {
            "cell_type": "markdown",
            "metadata": {},
            "source": [
                "## EllipSys WindFarmModel\n",
                "\n",
                "The EllipSys wind farm model is based on a Reynolds-Averaged Navier-Stokes method as implemented in the general purpose flow solver EllipSys3D, initially developed by Jess A. Michelsen at DTU Fluid Mechanics[1,2] and Niels N. S\u00f8rensen in connection with his PhD study[3]. \n",
                "\n",
                "EllipSys3D is closed source licensed software and it is based on Fortran and MPI. The EllipSys wind farm model uses PyEllipSys, which is a direct memory Python interface to the Fortran version of EllipSys3D. \n",
                "\n",
                "This means that it is possible to import EllipSys3D as a Python object and change flow variables during a simulation. \n",
                "\n",
                "The wind turbines are represented by actuator diks (AD) and the inflow is an idealized atmospheric boundary layer including effects of Coriolis and atmospheric stability. The main setup uses flat terrain, with a homogeneous roughness length, but the EllipSys wind farm model can also be run with terrain. More information can be found here: https://topfarm.pages.windenergy.dtu.dk/cuttingedge/pywake/pywake_ellipsys/\n",
                "\n",
                "\n",
                "### Installation\n",
                "\n",
                "The EllipSys wind farm model only runs in a linux environment and it requires the\n",
                "commercial cutting-edge plugin `py_wake_ellipsys`. Contact us if you are interested to get access to it.\n",
                "\n",
                "\n",
                "### References\n",
                "\n",
                "1. Jess A. Michelsen, *Basis3D - a Platform for Development of Multiblock\n",
                "   PDE Solvers*, AFM 92-05, Department of Fluid Mechanics, Technical University\n",
                "   of Denmark, December 1994.\n",
                "2. Jess A. Michelsen, Block structured Multigrid solution of 2D and 3D\n",
                "   Elliptic PDEs, AFM 94-06, Department of Fluid Mechanics, Technical\n",
                "   University of Denmark, May 1994.\n",
                "3. Niels N. S\u00f8rensen, *General Purpose Flow Solver Applied to Flow Over Hills*,\n",
                "   Ris\u00f8-R-827, Ris\u00f8 National Laboratory, Roskilde, Denmark, 1995.\n"
            ]
        }
    ],
    "metadata": {
        "kernelspec": {
            "display_name": "Python 3",
            "language": "python",
            "name": "python3"
        },
        "language_info": {
            "codemirror_mode": {
                "name": "ipython",
                "version": 3
            },
            "file_extension": ".py",
            "mimetype": "text/x-python",
            "name": "python",
            "nbconvert_exporter": "python",
            "pygments_lexer": "ipython3",
            "version": "3.8.2"
        },
        "toc": {
            "base_numbering": 1,
            "nav_menu": {},
            "number_sections": true,
            "sideBar": true,
            "skip_h1_title": false,
            "title_cell": "Table of Contents",
            "title_sidebar": "Contents",
            "toc_cell": false,
            "toc_position": {},
            "toc_section_display": true,
            "toc_window_display": true
        }
    },
    "nbformat": 4,
    "nbformat_minor": 2
}
