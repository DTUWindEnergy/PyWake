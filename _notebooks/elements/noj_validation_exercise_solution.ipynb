{
 "cells": [
  {
   "cell_type": "markdown",
   "metadata": {},
   "source": [
    "# Exercise: Validate NOJ (solution)"
   ]
  },
  {
   "cell_type": "markdown",
   "metadata": {},
   "source": [
    "Validate the down stream wind speed result presented in table 1 in Jensen, Niels Otto. \"A note on wind generator interaction.\" (1983)"
   ]
  },
  {
   "cell_type": "markdown",
   "metadata": {},
   "source": [
    "Input\n",
    "\n",
    "- Nibe turbine:\n",
    "    - radius: 20m\n",
    "    - Wind speed behind the turbine: 1/3U (corresponding to ct=8/9)\n",
    "- Wake expansion factor, k: 0.1\n",
    "- wind speed:\n",
    "    - 100m upstream: 8.1 m/s\n",
    "\n",
    "Results\n",
    "\n",
    "- 40m down stream: 4.35 m/s\n",
    "- 100m down stream: 5.7 m/s\n",
    "\n",
    "Hint: \n",
    "\n",
    "- Copy the template below into a code cell\n",
    "- Replace all occurences of \"...\" with proper values/code\n",
    "- Take a look at the [refernce guide](https://topfarm.pages.windenergy.dtu.dk/PyWake/reference_guide.html)"
   ]
  },
  {
   "cell_type": "code",
   "execution_count": 2,
   "metadata": {},
   "outputs": [
    {
     "name": "stdout",
     "output_type": "stream",
     "text": [
      "[[8.1 ]\n",
      " [4.35]\n",
      " [5.7 ]]\n"
     ]
    }
   ],
   "source": [
    "import numpy as np\n",
    "import matplotlib.pyplot as plt\n",
    "from py_wake.aep_calculator import AEPCalculator\n",
    "from py_wake.wind_turbines import OneTypeWindTurbines\n",
    "from py_wake.wake_models import NOJ\n",
    "from py_wake.site import UniformSite\n",
    "\n",
    "def p(ws):\n",
    "    return 0\n",
    "\n",
    "def ct(ws):\n",
    "    return 8/9\n",
    "\n",
    "wt = OneTypeWindTurbines(name=\"Nibe\", \n",
    "                         diameter=40, \n",
    "                         hub_height=50, \n",
    "                         ct_func= ct, \n",
    "                         power_func = p, \n",
    "                         power_unit='w')\n",
    "\n",
    "site = UniformSite(p_wd=[1], ti=.1) # Dummy site (flat and uniform)\n",
    "\n",
    "wake_model = NOJ(site, wt, k=.1)\n",
    "\n",
    "aep_calc = AEPCalculator(wake_model)\n",
    "X,Y,WS_eff = aep_calc.wake_map(x_j = [0], \n",
    "                               y_j=[100,-40,-100],\n",
    "                               wt_x=[0], \n",
    "                               wt_y=[0],\n",
    "                               wd=[0], \n",
    "                               ws=[8.1])\n",
    "print ( WS_eff)"
   ]
  },
  {
   "cell_type": "code",
   "execution_count": null,
   "metadata": {},
   "outputs": [],
   "source": []
  }
 ],
 "metadata": {
  "kernelspec": {
   "display_name": "Python 3",
   "language": "python",
   "name": "python3"
  },
  "language_info": {
   "codemirror_mode": {
    "name": "ipython",
    "version": 3
   },
   "file_extension": ".py",
   "mimetype": "text/x-python",
   "name": "python",
   "nbconvert_exporter": "python",
   "pygments_lexer": "ipython3",
   "version": "3.6.7"
  }
 },
 "nbformat": 4,
 "nbformat_minor": 2
}
