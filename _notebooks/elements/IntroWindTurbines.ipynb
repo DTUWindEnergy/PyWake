{
 "cells": [
  {
   "cell_type": "markdown",
   "metadata": {},
   "source": [
    "## Wind Turbines"
   ]
  },
  {
   "cell_type": "markdown",
   "metadata": {},
   "source": [
    "The [`WindTurbines`](https://topfarm.pages.windenergy.dtu.dk/PyWake/wind_turbines/WindTurbines.html) base class is used to model of the available wind turbine types.\n",
    "\n",
    "Wind turbines are modelled by:\n",
    "\n",
    "- Name\n",
    "- Hub height\n",
    "- Rotor diameter\n",
    "- Power curve\n",
    "- Ct curve"
   ]
  },
  {
   "cell_type": "code",
   "execution_count": null,
   "metadata": {},
   "outputs": [],
   "source": []
  }
 ],
 "metadata": {
  "kernelspec": {
   "display_name": "Python 3",
   "language": "python",
   "name": "python3"
  },
  "language_info": {
   "codemirror_mode": {
    "name": "ipython",
    "version": 3
   },
   "file_extension": ".py",
   "mimetype": "text/x-python",
   "name": "python",
   "nbconvert_exporter": "python",
   "pygments_lexer": "ipython3",
   "version": "3.6.7"
  }
 },
 "nbformat": 4,
 "nbformat_minor": 2
}
